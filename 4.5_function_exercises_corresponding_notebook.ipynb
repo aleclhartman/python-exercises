{
 "cells": [
  {
   "cell_type": "code",
   "execution_count": 328,
   "metadata": {},
   "outputs": [
    {
     "data": {
      "text/plain": [
       "True"
      ]
     },
     "execution_count": 328,
     "metadata": {},
     "output_type": "execute_result"
    }
   ],
   "source": [
    "# Define a function named is_two. It should accept one input and return True\n",
    "# if the passed input is either the number or the string 2, False otherwise.\n",
    "def is_two(x):\n",
    "    return x == 2 or x == \"2\"\n",
    "    \n",
    "is_two(\"2\")"
   ]
  },
  {
   "cell_type": "code",
   "execution_count": 322,
   "metadata": {},
   "outputs": [
    {
     "data": {
      "text/plain": [
       "False"
      ]
     },
     "execution_count": 322,
     "metadata": {},
     "output_type": "execute_result"
    }
   ],
   "source": [
    "# Define a function named is_vowel. It should return True if the passed string is a vowel, False otherwise.\n",
    "def is_vowel(letter):\n",
    "    if letter.lower() in [\"a\", \"e\", \"i\", \"o\", \"u\"]:\n",
    "        return True\n",
    "    else:\n",
    "        return False\n",
    "\n",
    "is_vowel(\"c\")"
   ]
  },
  {
   "cell_type": "code",
   "execution_count": 329,
   "metadata": {},
   "outputs": [
    {
     "data": {
      "text/plain": [
       "True"
      ]
     },
     "execution_count": 329,
     "metadata": {},
     "output_type": "execute_result"
    }
   ],
   "source": [
    "def is_vowel(letter):\n",
    "    return len(letter) == 1 and letter.lower() in 'aeiou'\n",
    "\n",
    "is_vowel(\"o\")"
   ]
  },
  {
   "cell_type": "markdown",
   "metadata": {},
   "source": [
    "^ideal"
   ]
  },
  {
   "cell_type": "code",
   "execution_count": 137,
   "metadata": {},
   "outputs": [],
   "source": [
    "def is_vowel(letter):\n",
    "    print(\"------\")\n",
    "    print(\"[is_vowel] starting! Checking letter: \" + letter)\n",
    "    vowels = 'aeiou'\n",
    "    \n",
    "    # check if the letter is any of the vowels\n",
    "    for vowel in vowels:\n",
    "        print(\"[is_vowel] checking vowel: \" + vowel)\n",
    "        if letter.lower() == vowel:\n",
    "            print(\"[is_vowel] letter, \" + letter + \" is a vowel: \" + vowel)\n",
    "            return True\n",
    "    print(\"[is_vowel] finished the for loop, our letter is not a vowel\")\n",
    "    # the letter is not in our vowel list\n",
    "    return False"
   ]
  },
  {
   "cell_type": "code",
   "execution_count": 143,
   "metadata": {},
   "outputs": [],
   "source": [
    "assert is_vowel(\"A\") == True\n",
    "assert is_vowel(\"ao\") == False\n",
    "assert is_vowel(\"c\") == False\n",
    "assert is_vowel(\"\") == False"
   ]
  },
  {
   "cell_type": "markdown",
   "metadata": {},
   "source": [
    "**Consider what you expect the output of the function you are writing to be before writing the function**\n",
    "\n",
    "Start by running easy tests\n",
    "\n",
    "Then try to break your function\n",
    "\n",
    "Then try edge cases"
   ]
  },
  {
   "cell_type": "markdown",
   "metadata": {},
   "source": [
    "First, write your code for readability\n",
    "\n",
    "Second, consider performance if an issue\n",
    "\n",
    "if performance issues:\n",
    "\n",
    "    optimize\n",
    "    \n",
    "else:\n",
    "\n",
    "    code for readability"
   ]
  },
  {
   "cell_type": "markdown",
   "metadata": {},
   "source": [
    "Avoid conditionals or loops where possible! Less cognitive overhead!"
   ]
  },
  {
   "cell_type": "code",
   "execution_count": 335,
   "metadata": {},
   "outputs": [
    {
     "data": {
      "text/plain": [
       "True"
      ]
     },
     "execution_count": 335,
     "metadata": {},
     "output_type": "execute_result"
    }
   ],
   "source": [
    "# Define a function named is_consonant. It should return True if the passed string is a consonant, False otherwise.\n",
    "# Use your is_vowel function to accomplish this.\n",
    "def is_consonant(letter):\n",
    "    if is_vowel(letter.lower()) != True:\n",
    "        return True\n",
    "    else:\n",
    "        return False\n",
    "    \n",
    "is_consonant(\"ab\")"
   ]
  },
  {
   "cell_type": "code",
   "execution_count": 334,
   "metadata": {},
   "outputs": [
    {
     "data": {
      "text/plain": [
       "False"
      ]
     },
     "execution_count": 334,
     "metadata": {},
     "output_type": "execute_result"
    }
   ],
   "source": [
    "def is_consonant(letter):\n",
    "    letters = \"abcdefghijklmnopqrstuvwxyz\"\n",
    "    return len(letter) == 1 and letter.isalpha() and not is_vowel(letter)\n",
    "\n",
    "is_consonant(\"a\")"
   ]
  },
  {
   "cell_type": "code",
   "execution_count": 331,
   "metadata": {},
   "outputs": [],
   "source": [
    "assert is_consonant(\"a\") == False\n",
    "assert is_consonant(\"ab\") == False"
   ]
  },
  {
   "cell_type": "code",
   "execution_count": 320,
   "metadata": {},
   "outputs": [
    {
     "data": {
      "text/plain": [
       "'alec'"
      ]
     },
     "execution_count": 320,
     "metadata": {},
     "output_type": "execute_result"
    }
   ],
   "source": [
    "# Define a function that accepts a string that is a word.\n",
    "# The function should capitalize the first letter of the word if the word starts with a consonant.\n",
    "def capitalize_consonant_word(word):\n",
    "    if is_consonant(word[0]) == True:\n",
    "        return word.capitalize()\n",
    "    else:\n",
    "        return word\n",
    "    \n",
    "capitalize_consonant_word(\"alec\")"
   ]
  },
  {
   "cell_type": "markdown",
   "metadata": {},
   "source": [
    "**Functions are verbs, perameters are nouns **"
   ]
  },
  {
   "cell_type": "code",
   "execution_count": 162,
   "metadata": {},
   "outputs": [
    {
     "data": {
      "text/plain": [
       "20.0"
      ]
     },
     "execution_count": 162,
     "metadata": {},
     "output_type": "execute_result"
    }
   ],
   "source": [
    "# Define a function named calculate_tip.\n",
    "# It should accept a tip percentage (a number between 0 and 1) and the bill total, and return the amount to tip.\n",
    "def calculate_tip(percent, bill_total):\n",
    "    tip_amount = percent * bill_total\n",
    "    return tip_amount\n",
    "\n",
    "calculate_tip(.2, 100)"
   ]
  },
  {
   "cell_type": "code",
   "execution_count": 165,
   "metadata": {},
   "outputs": [],
   "source": [
    "assert calculate_tip(.20, 40) == 8.0\n",
    "assert calculate_tip(.10, 40) == 4.0\n",
    "assert calculate_tip(.20, 10) == 2.0"
   ]
  },
  {
   "cell_type": "code",
   "execution_count": null,
   "metadata": {},
   "outputs": [],
   "source": [
    "def calculate_tip(percent, bill_total):\n",
    "    while percent > 1:\n",
    "        print(\"Percent must be expressed as a number between 0 and 1.\")\n",
    "        percent = input(\"Enter a valid number: \")\n",
    "    tip_amount = percent * bill_total\n",
    "    return tip_amount\n",
    "\n",
    "calculate_tip(9, 100)"
   ]
  },
  {
   "cell_type": "code",
   "execution_count": 166,
   "metadata": {},
   "outputs": [
    {
     "data": {
      "text/plain": [
       "6.0"
      ]
     },
     "execution_count": 166,
     "metadata": {},
     "output_type": "execute_result"
    }
   ],
   "source": [
    "# Define a function named apply_discount.\n",
    "# It should accept a original price, and a discount percentage, and return the price after the discount is applied.\n",
    "def apply_discount(price, discount):\n",
    "    discounted_price = price - price * discount\n",
    "    return discounted_price\n",
    "\n",
    "apply_discount(10, .4)"
   ]
  },
  {
   "cell_type": "code",
   "execution_count": 167,
   "metadata": {},
   "outputs": [],
   "source": [
    "assert apply_discount(10, .10) == 9.0\n",
    "assert apply_discount(10, .20) == 8.0"
   ]
  },
  {
   "cell_type": "code",
   "execution_count": 171,
   "metadata": {},
   "outputs": [
    {
     "data": {
      "text/plain": [
       "5000000000"
      ]
     },
     "execution_count": 171,
     "metadata": {},
     "output_type": "execute_result"
    }
   ],
   "source": [
    "# Define a function named handle_commas.\n",
    "# It should accept a string that is a number that contains commas in it as input, and return a number as output.\n",
    "def handle_commas(number_as_string):\n",
    "    return int(number_as_string.replace(\",\", \"_\"))\n",
    "\n",
    "handle_commas(\"5,000,000,000\")"
   ]
  },
  {
   "cell_type": "markdown",
   "metadata": {},
   "source": [
    "Optimistic coding! Write a test verifying how you expect your code to work!"
   ]
  },
  {
   "cell_type": "code",
   "execution_count": 172,
   "metadata": {},
   "outputs": [],
   "source": [
    "assert handle_commas(\"1,234\") == 1234\n",
    "assert handle_commas(\"1,234,567\") == 1234567\n",
    "assert handle_commas(\"123\") == 123"
   ]
  },
  {
   "cell_type": "code",
   "execution_count": 318,
   "metadata": {},
   "outputs": [
    {
     "data": {
      "text/plain": [
       "'F'"
      ]
     },
     "execution_count": 318,
     "metadata": {},
     "output_type": "execute_result"
    }
   ],
   "source": [
    "# Define a function named get_letter_grade.\n",
    "# It should accept a number and return the letter grade associated with that number (A-F).\n",
    "def get_letter_grade(number):\n",
    "    if number >= 90:\n",
    "        return \"A\"\n",
    "    elif number >= 80:\n",
    "        return \"B\"\n",
    "    elif number >= 70:\n",
    "        return \"C\"\n",
    "    else:\n",
    "        return \"F\"\n",
    "\n",
    "get_letter_grade(69)"
   ]
  },
  {
   "cell_type": "code",
   "execution_count": 319,
   "metadata": {},
   "outputs": [],
   "source": [
    "assert get_letter_grade(90) == \"A\"\n",
    "assert get_letter_grade(70) == \"C\"\n",
    "assert get_letter_grade(79) == \"C\"\n",
    "assert get_letter_grade(80) == \"B\"\n",
    "assert get_letter_grade(89) == \"B\""
   ]
  },
  {
   "cell_type": "code",
   "execution_count": 315,
   "metadata": {},
   "outputs": [
    {
     "data": {
      "text/plain": [
       "'lc'"
      ]
     },
     "execution_count": 315,
     "metadata": {},
     "output_type": "execute_result"
    }
   ],
   "source": [
    "# Define a function named remove_vowels that accepts a string and returns a string with all the vowels removed.\n",
    "def remove_vowels(string):\n",
    "    string = string.lower()\n",
    "    vowels = [\"a\", \"e\", \"i\", \"o\", \"u\"]\n",
    "    for letters in string:\n",
    "        if letters in vowels:\n",
    "            string = string.replace(letters, \"\")\n",
    "    return string\n",
    "\n",
    "remove_vowels(\"alec\")"
   ]
  },
  {
   "cell_type": "code",
   "execution_count": 312,
   "metadata": {},
   "outputs": [],
   "source": [
    "def remove_vowels(string):\n",
    "    string_without_vowels = ''"
   ]
  },
  {
   "cell_type": "code",
   "execution_count": 313,
   "metadata": {},
   "outputs": [],
   "source": [
    "def remove_vowels(string):\n",
    "    return \"\".join([c for c in string if not is_vowel(c)])\n"
   ]
  },
  {
   "cell_type": "code",
   "execution_count": 316,
   "metadata": {},
   "outputs": [],
   "source": [
    "assert remove_vowels(\"a\") == \"\"\n",
    "assert remove_vowels(\"codeup\") == \"cdp\""
   ]
  },
  {
   "cell_type": "code",
   "execution_count": 210,
   "metadata": {},
   "outputs": [
    {
     "data": {
      "text/plain": [
       "'completed'"
      ]
     },
     "execution_count": 210,
     "metadata": {},
     "output_type": "execute_result"
    }
   ],
   "source": [
    "# Define a function named normalize_name. It should accept a string and return a valid python identifier, that is:\n",
    "# anything that is not a valid python identifier should be removed\n",
    "# leading and trailing whitespace should be removed\n",
    "# everything should be lowercase\n",
    "# spaces should be replaced with underscores\n",
    "def normalize_name(string):\n",
    "    for character in string:\n",
    "        if character.isidentifier() == False:\n",
    "            string = string.replace(character, \" \")\n",
    "    string = string.strip()\n",
    "    for character in string:\n",
    "        if character == \" \":\n",
    "            string = string.replace(character, \"_\")\n",
    "    string = string.lower()\n",
    "    return string\n",
    "\n",
    "normalize_name(\"% Completed\")"
   ]
  },
  {
   "cell_type": "code",
   "execution_count": 223,
   "metadata": {},
   "outputs": [],
   "source": [
    "def remove_special_characters(string):\n",
    "    return \"\".join([c for c in string if c.isalnum() or c == \" \"])"
   ]
  },
  {
   "cell_type": "code",
   "execution_count": 224,
   "metadata": {},
   "outputs": [],
   "source": [
    "assert remove_special_characters(\"stri!%^ng\") == \"string\""
   ]
  },
  {
   "cell_type": "code",
   "execution_count": 230,
   "metadata": {},
   "outputs": [],
   "source": [
    "def normalize_name(string):\n",
    "    without_special_chars = remove_special_characters(string)\n",
    "    return without_special_chars.lower().strip().replace(\" \", \"_\")"
   ]
  },
  {
   "cell_type": "code",
   "execution_count": 231,
   "metadata": {},
   "outputs": [],
   "source": [
    "assert normalize_name(\"Name\") == \"name\"\n",
    "assert normalize_name(\"First Name\") == \"first_name\"\n",
    "assert normalize_name(\"% Completed\") == \"completed\""
   ]
  },
  {
   "cell_type": "code",
   "execution_count": 245,
   "metadata": {},
   "outputs": [
    {
     "data": {
      "text/plain": [
       "[1, 3, 6, 10]"
      ]
     },
     "execution_count": 245,
     "metadata": {},
     "output_type": "execute_result"
    }
   ],
   "source": [
    "# Write a function named cumsum that accepts a list of\n",
    "# numbers and returns a list that is the cumulative sum of the numbers in the list.\n",
    "def cumsum(numbers):\n",
    "    cumulative_list = []\n",
    "    cumulative_sum = 0\n",
    "    for n in numbers:\n",
    "        cumulative_sum += n\n",
    "        cumulative_list.append(cumulative_sum)\n",
    "    return cumulative_list\n",
    "\n",
    "cumsum([1, 2, 3, 4])"
   ]
  },
  {
   "cell_type": "code",
   "execution_count": 44,
   "metadata": {},
   "outputs": [
    {
     "data": {
      "text/plain": [
       "16.3"
      ]
     },
     "execution_count": 44,
     "metadata": {},
     "output_type": "execute_result"
    }
   ],
   "source": [
    "# Create a function named twelveto24. It should accept a string in the format 10:45am or\n",
    "# 4:30pm and return a string that is the representation of the time in a 24-hour format.\n",
    "# Bonus write a function that does the opposite.\n",
    "def twelveto24(string):\n",
    "    string = string.lower()\n",
    "    original_string = string\n",
    "    for character in string:\n",
    "        if character.isalpha() == True:\n",
    "            string = string.replace(character, \"\")\n",
    "    for character in string:\n",
    "        if character == \":\":\n",
    "            string = string.replace(character, \".\")\n",
    "    string = float(string)\n",
    "    for character in original_string[-2]:\n",
    "        if character == \"p\":\n",
    "            return string + 12.0\n",
    "    string = str(string)\n",
    "    for character in string:\n",
    "        if character == \".\":\n",
    "            string = string.replace(character, \":\")\n",
    "    return string\n",
    "\n",
    "twelveto24(\"4:30pm\")"
   ]
  },
  {
   "cell_type": "code",
   "execution_count": 111,
   "metadata": {},
   "outputs": [
    {
     "data": {
      "text/plain": [
       "10"
      ]
     },
     "execution_count": 111,
     "metadata": {},
     "output_type": "execute_result"
    }
   ],
   "source": [
    "def twelveto24(string):\n",
    "    string = string.lower()\n",
    "    original_string = string\n",
    "    string = string[:-2]\n",
    "    string = string.split(\":\")\n",
    "    hours = int(string[0])\n",
    "    minutes = int(string[-1])\n",
    "    if original_string[:-2] == \"pm\":\n",
    "        return hours + 12\n",
    "    return hours\n",
    "\n",
    "twelveto24(\"10:45am\")"
   ]
  },
  {
   "cell_type": "code",
   "execution_count": 94,
   "metadata": {},
   "outputs": [],
   "source": [
    "def twelveto24(string):\n",
    "    string = string.lower()\n",
    "    original_string = string\n",
    "    if string[-2:] == \"am\" and string[-2:] == \"pm\":\n",
    "        return string[2:-2]\n",
    "\n",
    "twelveto24(\"4:30pm\")"
   ]
  },
  {
   "cell_type": "code",
   "execution_count": 76,
   "metadata": {},
   "outputs": [
    {
     "data": {
      "text/plain": [
       "'10:45am'"
      ]
     },
     "execution_count": 76,
     "metadata": {},
     "output_type": "execute_result"
    }
   ],
   "source": [
    "def twelveto24(string):\n",
    "    string = string.lower()\n",
    "    for character in string[-2:]:\n",
    "        if character == \"am\":\n",
    "            string = string.replace(character, \"\")\n",
    "            return string\n",
    "    return string\n",
    "\n",
    "twelveto24(\"10:45AM\")"
   ]
  },
  {
   "cell_type": "code",
   "execution_count": 87,
   "metadata": {},
   "outputs": [
    {
     "data": {
      "text/plain": [
       "'12:40'"
      ]
     },
     "execution_count": 87,
     "metadata": {},
     "output_type": "execute_result"
    }
   ],
   "source": [
    "def twelveto24(string):\n",
    "    string = string.lower()\n",
    "    if string[-2:] == \"am\" and string[:2] == \"12\":\n",
    "        return \"00\" + string[2:-2]\n",
    "    elif string[-2:] == \"am\":\n",
    "        string = string[:-2]\n",
    "        return string\n",
    "    elif string[-2:] == \"pm\":\n",
    "        string = string[:-2]\n",
    "        return string\n",
    "    elif string[-2:] == \"pm\":\n",
    "        string = string.split(\":\")\n",
    "        return string\n",
    "    return string\n",
    "\n",
    "twelveto24(\"12:40pM\")"
   ]
  },
  {
   "cell_type": "code",
   "execution_count": 91,
   "metadata": {},
   "outputs": [],
   "source": [
    "string = \"abcdefg\"\n",
    "\n",
    "for character in string[-1]:\n",
    "    if character == 'g':\n",
    "        string = string.replace(character, \"\")"
   ]
  },
  {
   "cell_type": "markdown",
   "metadata": {},
   "source": [
    "extract pieces out of time"
   ]
  },
  {
   "cell_type": "code",
   "execution_count": 298,
   "metadata": {},
   "outputs": [
    {
     "data": {
      "text/plain": [
       "'00'"
      ]
     },
     "execution_count": 298,
     "metadata": {},
     "output_type": "execute_result"
    }
   ],
   "source": [
    "def hours(string):\n",
    "    string = string.split(\":\")\n",
    "    hour = int(string[0])\n",
    "    if \"p\" in string[1] and hour != 12:\n",
    "        return str(hour + 12)\n",
    "    if hour == 12 and \"a\" in string[1]:\n",
    "        return \"00\"\n",
    "    return str(hour)\n",
    "\n",
    "hours(\"12:45am\")"
   ]
  },
  {
   "cell_type": "code",
   "execution_count": 267,
   "metadata": {},
   "outputs": [],
   "source": [
    "assert hours(\"10:45am\") == \"10\"\n",
    "assert hours(\"4:30pm\") == \"4\""
   ]
  },
  {
   "cell_type": "code",
   "execution_count": 269,
   "metadata": {},
   "outputs": [
    {
     "data": {
      "text/plain": [
       "'45'"
      ]
     },
     "execution_count": 269,
     "metadata": {},
     "output_type": "execute_result"
    }
   ],
   "source": [
    "def minutes(string):\n",
    "    string = string.split(\":\")\n",
    "    minute_m = string[1]\n",
    "    minute = minute_m[:2]\n",
    "    return minute\n",
    "\n",
    "minutes(\"10:45am\")"
   ]
  },
  {
   "cell_type": "code",
   "execution_count": 270,
   "metadata": {},
   "outputs": [],
   "source": [
    "assert minutes(\"10:45am\") == \"45\"\n",
    "assert minutes(\"4:30pm\") == \"30\""
   ]
  },
  {
   "cell_type": "code",
   "execution_count": 311,
   "metadata": {},
   "outputs": [
    {
     "data": {
      "text/plain": [
       "'00:00'"
      ]
     },
     "execution_count": 311,
     "metadata": {},
     "output_type": "execute_result"
    }
   ],
   "source": [
    "# Create a function named twelveto24. It should accept a string in the format 10:45am or\n",
    "# 4:30pm and return a string that is the representation of the time in a 24-hour format.\n",
    "# Bonus write a function that does the opposite.\n",
    "def twelveto24(string):\n",
    "    return hours(string) + \":\" + minutes(string)\n",
    "\n",
    "twelveto24(\"12:00am\")"
   ]
  }
 ],
 "metadata": {
  "kernelspec": {
   "display_name": "Python 3",
   "language": "python",
   "name": "python3"
  },
  "language_info": {
   "codemirror_mode": {
    "name": "ipython",
    "version": 3
   },
   "file_extension": ".py",
   "mimetype": "text/x-python",
   "name": "python",
   "nbconvert_exporter": "python",
   "pygments_lexer": "ipython3",
   "version": "3.7.4"
  }
 },
 "nbformat": 4,
 "nbformat_minor": 2
}
