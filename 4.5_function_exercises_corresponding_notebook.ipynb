{
 "cells": [
  {
   "cell_type": "code",
   "execution_count": 11,
   "metadata": {},
   "outputs": [
    {
     "data": {
      "text/plain": [
       "True"
      ]
     },
     "execution_count": 11,
     "metadata": {},
     "output_type": "execute_result"
    }
   ],
   "source": [
    "# Define a function named is_two. It should accept one input and return True\n",
    "# if the passed input is either the number or the string 2, False otherwise.\n",
    "def is_two(x):\n",
    "    if x == 2 or x == \"2\":\n",
    "        return True\n",
    "    else:\n",
    "        return False\n",
    "\n",
    "is_two(2)"
   ]
  },
  {
   "cell_type": "code",
   "execution_count": 28,
   "metadata": {},
   "outputs": [
    {
     "data": {
      "text/plain": [
       "True"
      ]
     },
     "execution_count": 28,
     "metadata": {},
     "output_type": "execute_result"
    }
   ],
   "source": [
    "# Define a function named is_vowel. It should return True if the passed string is a vowel, False otherwise.\n",
    "def is_vowel(letter):\n",
    "    if letter.lower() in [\"a\", \"e\", \"i\", \"o\", \"u\"]:\n",
    "        return True\n",
    "    else:\n",
    "        return False\n",
    "\n",
    "is_vowel(\"a\")"
   ]
  },
  {
   "cell_type": "code",
   "execution_count": 39,
   "metadata": {},
   "outputs": [
    {
     "data": {
      "text/plain": [
       "True"
      ]
     },
     "execution_count": 39,
     "metadata": {},
     "output_type": "execute_result"
    }
   ],
   "source": [
    "# Define a function named is_consonant. It should return True if the passed string is a consonant, False otherwise.\n",
    "# Use your is_vowel function to accomplish this.\n",
    "def is_consonant(letter):\n",
    "    if is_vowel(letter.lower()) != True:\n",
    "        return True\n",
    "    else:\n",
    "        return False\n",
    "    \n",
    "is_consonant(\"v\")"
   ]
  },
  {
   "cell_type": "code",
   "execution_count": 64,
   "metadata": {},
   "outputs": [
    {
     "data": {
      "text/plain": [
       "'alec'"
      ]
     },
     "execution_count": 64,
     "metadata": {},
     "output_type": "execute_result"
    }
   ],
   "source": [
    "# Define a function that accepts a string that is a word.\n",
    "# The function should capitalize the first letter of the word if the word starts with a consonant.\n",
    "def capitalize_consonant_word(word):\n",
    "    if is_consonant(word[0]) == True:\n",
    "        return word.capitalize()\n",
    "    else:\n",
    "        return word\n",
    "    \n",
    "capitalize_consonant_word(\"alec\")"
   ]
  },
  {
   "cell_type": "code",
   "execution_count": 82,
   "metadata": {},
   "outputs": [
    {
     "data": {
      "text/plain": [
       "20.0"
      ]
     },
     "execution_count": 82,
     "metadata": {},
     "output_type": "execute_result"
    }
   ],
   "source": [
    "# Define a function named calculate_tip.\n",
    "# It should accept a tip percentage (a number between 0 and 1) and the bill total, and return the amount to tip.\n",
    "def calculate_tip(percent, bill_total):\n",
    "    tip_amount = percent * bill_total\n",
    "    return tip_amount\n",
    "\n",
    "calculate_tip(.2, 100)"
   ]
  },
  {
   "cell_type": "code",
   "execution_count": null,
   "metadata": {},
   "outputs": [],
   "source": [
    "def calculate_tip(percent, bill_total):\n",
    "    while percent > 1:\n",
    "        print(\"Percent must be expressed as a number between 0 and 1.\")\n",
    "        percent = input(\"Enter a valid number: \")\n",
    "    tip_amount = percent * bill_total\n",
    "    return tip_amount\n",
    "\n",
    "calculate_tip(9, 100)"
   ]
  },
  {
   "cell_type": "code",
   "execution_count": 87,
   "metadata": {},
   "outputs": [
    {
     "data": {
      "text/plain": [
       "6.0"
      ]
     },
     "execution_count": 87,
     "metadata": {},
     "output_type": "execute_result"
    }
   ],
   "source": [
    "# Define a function named apply_discount.\n",
    "# It should accept a original price, and a discount percentage, and return the price after the discount is applied.\n",
    "def apply_discount(price, discount):\n",
    "    discounted_price = price - price * discount\n",
    "    return discounted_price\n",
    "\n",
    "apply_discount(10, .4)"
   ]
  },
  {
   "cell_type": "code",
   "execution_count": 101,
   "metadata": {},
   "outputs": [
    {
     "data": {
      "text/plain": [
       "5000000000"
      ]
     },
     "execution_count": 101,
     "metadata": {},
     "output_type": "execute_result"
    }
   ],
   "source": [
    "# Define a function named handle_commas.\n",
    "# It should accept a string that is a number that contains commas in it as input, and return a number as output.\n",
    "def handle_commas(number_as_string):\n",
    "    return int(number_as_string.replace(\",\", \"_\"))\n",
    "\n",
    "handle_commas(\"5,000,000,000\")"
   ]
  },
  {
   "cell_type": "code",
   "execution_count": 24,
   "metadata": {},
   "outputs": [
    {
     "name": "stdout",
     "output_type": "stream",
     "text": [
      "A\n"
     ]
    }
   ],
   "source": [
    "# Define a function named get_letter_grade.\n",
    "# It should accept a number and return the letter grade associated with that number (A-F).\n",
    "def get_letter_grade(number):\n",
    "    if number in range(90, 101):\n",
    "        return print(\"A\")\n",
    "    elif number in range(80, 90):\n",
    "        return print(\"B\")\n",
    "    elif number in range(70, 80):\n",
    "        return print(\"C\")\n",
    "    elif number in range(60, 70):\n",
    "        return print(\"D\")\n",
    "    else:\n",
    "        return print(\"F\")\n",
    "\n",
    "get_letter_grade(90)"
   ]
  },
  {
   "cell_type": "code",
   "execution_count": 15,
   "metadata": {},
   "outputs": [
    {
     "name": "stdout",
     "output_type": "stream",
     "text": [
      "lc\n"
     ]
    }
   ],
   "source": [
    "# Define a function named remove_vowels that accepts a string and returns a string with all the vowels removed.\n",
    "def remove_vowels(string):\n",
    "    string = string.lower()\n",
    "    vowels = [\"a\", \"e\", \"i\", \"o\", \"u\"]\n",
    "    for letters in string:\n",
    "        if letters in vowels:\n",
    "            string = string.replace(letters, \"\")\n",
    "    print(string)\n",
    "\n",
    "remove_vowels(\"alec\")"
   ]
  },
  {
   "cell_type": "code",
   "execution_count": 7,
   "metadata": {},
   "outputs": [
    {
     "data": {
      "text/plain": [
       "'completed'"
      ]
     },
     "execution_count": 7,
     "metadata": {},
     "output_type": "execute_result"
    }
   ],
   "source": [
    "# Define a function named normalize_name. It should accept a string and return a valid python identifier, that is:\n",
    "# anything that is not a valid python identifier should be removed\n",
    "# leading and trailing whitespace should be removed\n",
    "# everything should be lowercase\n",
    "# spaces should be replaced with underscores\n",
    "def normalize_name(string):\n",
    "    for character in string:\n",
    "        if character.isidentifier() == False:\n",
    "            string = string.replace(character, \" \")\n",
    "    string = string.strip()\n",
    "    for character in string:\n",
    "        if character == \" \":\n",
    "            string = string.replace(character, \"_\")\n",
    "    string = string.lower()\n",
    "    return string\n",
    "\n",
    "normalize_name(\"% Completed\")"
   ]
  },
  {
   "cell_type": "code",
   "execution_count": 245,
   "metadata": {},
   "outputs": [
    {
     "data": {
      "text/plain": [
       "[1, 3, 6, 10]"
      ]
     },
     "execution_count": 245,
     "metadata": {},
     "output_type": "execute_result"
    }
   ],
   "source": [
    "# Write a function named cumsum that accepts a list of\n",
    "# numbers and returns a list that is the cumulative sum of the numbers in the list.\n",
    "def cumsum(numbers):\n",
    "    cumulative_list = []\n",
    "    cumulative_sum = 0\n",
    "    for n in numbers:\n",
    "        cumulative_sum += n\n",
    "        cumulative_list.append(cumulative_sum)\n",
    "    return cumulative_list\n",
    "\n",
    "cumsum([1, 2, 3, 4])"
   ]
  }
 ],
 "metadata": {
  "kernelspec": {
   "display_name": "Python 3",
   "language": "python",
   "name": "python3"
  },
  "language_info": {
   "codemirror_mode": {
    "name": "ipython",
    "version": 3
   },
   "file_extension": ".py",
   "mimetype": "text/x-python",
   "name": "python",
   "nbconvert_exporter": "python",
   "pygments_lexer": "ipython3",
   "version": "3.7.4"
  }
 },
 "nbformat": 4,
 "nbformat_minor": 2
}
