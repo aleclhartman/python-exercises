{
 "cells": [
  {
   "cell_type": "code",
   "execution_count": 323,
   "metadata": {},
   "outputs": [
    {
     "name": "stdout",
     "output_type": "stream",
     "text": [
      "What day is it? monday\n",
      "Happy Monday\n"
     ]
    }
   ],
   "source": [
    "day = input(\"What day is it? \")\n",
    "\n",
    "while day.capitalize() not in [\"Monday\", \"Tuesday\", \"Wednesday\", \"Thursday\", \"Friday\", \"Saturday\", \"Sunday\"]:\n",
    "    day = input(\"What day is it? \")\n",
    "\n",
    "if day.capitalize() == \"Monday\":\n",
    "    print(\"Happy Monday\")\n",
    "else:\n",
    "    print(\"Not Monday\")"
   ]
  },
  {
   "cell_type": "code",
   "execution_count": 336,
   "metadata": {},
   "outputs": [
    {
     "name": "stdout",
     "output_type": "stream",
     "text": [
      "What day is it? saturday\n",
      "Weekend\n"
     ]
    }
   ],
   "source": [
    "day = input(\"What day is it? \")\n",
    "\n",
    "while day.capitalize() not in [\"Monday\", \"Tuesday\", \"Wednesday\", \"Thursday\", \"Friday\", \"Saturday\", \"Sunday\"]:\n",
    "    day = input(\"What day is it? \")\n",
    "\n",
    "if day.capitalize() == \"Saturday\" or day.capitalize() == \"Sunday\":\n",
    "    print(\"Weekend\")\n",
    "else:\n",
    "    print(\"Weekday\")"
   ]
  },
  {
   "cell_type": "code",
   "execution_count": 338,
   "metadata": {},
   "outputs": [
    {
     "name": "stdout",
     "output_type": "stream",
     "text": [
      "3500.0\n"
     ]
    }
   ],
   "source": [
    "def weekly_paycheck(hours_worked):\n",
    "    standard_workweek_hours = 40\n",
    "    hourly_rate = 50\n",
    "    if hours_worked > standard_workweek_hours:\n",
    "        print((standard_workweek_hours * hourly_rate) \n",
    "              + ((hours_worked - standard_workweek_hours)\n",
    "                 * (1.5 * hourly_rate)))\n",
    "    else:\n",
    "        print(standard_workweek_hours * hourly_rate)\n",
    "\n",
    "weekly_paycheck(60)"
   ]
  },
  {
   "cell_type": "code",
   "execution_count": 339,
   "metadata": {},
   "outputs": [
    {
     "name": "stdout",
     "output_type": "stream",
     "text": [
      "5\n",
      "6\n",
      "7\n",
      "8\n",
      "9\n",
      "10\n",
      "11\n",
      "12\n",
      "13\n",
      "14\n",
      "15\n"
     ]
    }
   ],
   "source": [
    "i = 5\n",
    "\n",
    "while i <= 15:\n",
    "    print(i)\n",
    "    i += 1"
   ]
  },
  {
   "cell_type": "code",
   "execution_count": 41,
   "metadata": {},
   "outputs": [
    {
     "name": "stdout",
     "output_type": "stream",
     "text": [
      "0\n",
      "2\n",
      "4\n",
      "6\n",
      "8\n",
      "10\n",
      "12\n",
      "14\n",
      "16\n",
      "18\n",
      "20\n",
      "22\n",
      "24\n",
      "26\n",
      "28\n",
      "30\n",
      "32\n",
      "34\n",
      "36\n",
      "38\n",
      "40\n",
      "42\n",
      "44\n",
      "46\n",
      "48\n",
      "50\n",
      "52\n",
      "54\n",
      "56\n",
      "58\n",
      "60\n",
      "62\n",
      "64\n",
      "66\n",
      "68\n",
      "70\n",
      "72\n",
      "74\n",
      "76\n",
      "78\n",
      "80\n",
      "82\n",
      "84\n",
      "86\n",
      "88\n",
      "90\n",
      "92\n",
      "94\n",
      "96\n",
      "98\n",
      "100\n"
     ]
    }
   ],
   "source": [
    "x = 0\n",
    "\n",
    "while x <= 100:\n",
    "    print(x)\n",
    "    x += 2"
   ]
  },
  {
   "cell_type": "code",
   "execution_count": 42,
   "metadata": {},
   "outputs": [
    {
     "name": "stdout",
     "output_type": "stream",
     "text": [
      "100\n",
      "95\n",
      "90\n",
      "85\n",
      "80\n",
      "75\n",
      "70\n",
      "65\n",
      "60\n",
      "55\n",
      "50\n",
      "45\n",
      "40\n",
      "35\n",
      "30\n",
      "25\n",
      "20\n",
      "15\n",
      "10\n",
      "5\n",
      "0\n",
      "-5\n",
      "-10\n"
     ]
    }
   ],
   "source": [
    "#       - Alter your loop to count backwards by 5's from 100 to -10.\n",
    "x = 100\n",
    "\n",
    "while x <= 100 and x >= -10:\n",
    "    print(x)\n",
    "    x -= 5"
   ]
  },
  {
   "cell_type": "code",
   "execution_count": 46,
   "metadata": {},
   "outputs": [
    {
     "name": "stdout",
     "output_type": "stream",
     "text": [
      "2\n",
      "4\n",
      "16\n",
      "256\n",
      "65536\n"
     ]
    }
   ],
   "source": [
    "x = 2\n",
    "\n",
    "while x < 1000000:\n",
    "    print(x)\n",
    "    x *= x "
   ]
  },
  {
   "cell_type": "code",
   "execution_count": 48,
   "metadata": {},
   "outputs": [
    {
     "name": "stdout",
     "output_type": "stream",
     "text": [
      "100\n",
      "95\n",
      "90\n",
      "85\n",
      "80\n",
      "75\n",
      "70\n",
      "65\n",
      "60\n",
      "55\n",
      "50\n",
      "45\n",
      "40\n",
      "35\n",
      "30\n",
      "25\n",
      "20\n",
      "15\n",
      "10\n",
      "5\n"
     ]
    }
   ],
   "source": [
    "x = 100\n",
    "\n",
    "while x > 0 and x <= 100:\n",
    "    print(x)\n",
    "    x -= 5"
   ]
  },
  {
   "cell_type": "code",
   "execution_count": 342,
   "metadata": {},
   "outputs": [
    {
     "name": "stdout",
     "output_type": "stream",
     "text": [
      "Give me a number, any number! -9\n",
      "-9 x 1 = -9\n",
      "-9 x 2 = -18\n",
      "-9 x 3 = -27\n",
      "-9 x 4 = -36\n",
      "-9 x 5 = -45\n",
      "-9 x 6 = -54\n",
      "-9 x 7 = -63\n",
      "-9 x 8 = -72\n",
      "-9 x 9 = -81\n",
      "-9 x 10 = -90\n"
     ]
    }
   ],
   "source": [
    "number = int(input(\"Give me a number, any number! \"))\n",
    "\n",
    "for i in range(1,11):\n",
    "    print(number, \"x\", i, \"=\", number*i)"
   ]
  },
  {
   "cell_type": "code",
   "execution_count": 343,
   "metadata": {},
   "outputs": [
    {
     "name": "stdout",
     "output_type": "stream",
     "text": [
      "Give me number of rows: 9\n",
      "1\n",
      "22\n",
      "333\n",
      "4444\n",
      "55555\n",
      "666666\n",
      "7777777\n",
      "88888888\n",
      "999999999\n"
     ]
    }
   ],
   "source": [
    "n = int(input(\"Give me number of rows: \"))\n",
    "\n",
    "for i in range(1, n + 1):\n",
    "    for j in range(1, i + 1):\n",
    "        print(i, end = \"\")\n",
    "    print()"
   ]
  },
  {
   "cell_type": "code",
   "execution_count": 111,
   "metadata": {},
   "outputs": [
    {
     "name": "stdout",
     "output_type": "stream",
     "text": [
      "Give me an odd number between 1 and 50: 100\n",
      "Give me a odd number between 1 and 50: -95\n",
      "Give me a odd number between 1 and 50: 47\n",
      "Here is an odd number: 1\n",
      "Here is an odd number: 3\n",
      "Here is an odd number: 5\n",
      "Here is an odd number: 7\n",
      "Here is an odd number: 9\n",
      "Here is an odd number: 11\n",
      "Here is an odd number: 13\n",
      "Here is an odd number: 15\n",
      "Here is an odd number: 17\n",
      "Here is an odd number: 19\n",
      "Here is an odd number: 21\n",
      "Here is an odd number: 23\n",
      "Here is an odd number: 25\n",
      "Here is an odd number: 27\n",
      "Here is an odd number: 29\n",
      "Here is an odd number: 31\n",
      "Here is an odd number: 33\n",
      "Here is an odd number: 35\n",
      "Here is an odd number: 37\n",
      "Here is an odd number: 39\n",
      "Here is an odd number: 41\n",
      "Here is an odd number: 43\n",
      "Here is an odd number: 45\n",
      "Here is an odd number: 49\n"
     ]
    }
   ],
   "source": [
    "i = int(input(\"Give me an odd number between 1 and 50: \"))\n",
    "\n",
    "while i < 1 or i > 50 or i % 2 == 0:\n",
    "    i = int(input(\"Give me a odd number between 1 and 50: \"))\n",
    "\n",
    "for n in range(51):\n",
    "    if n % 2 == 0 or n == i:\n",
    "        continue\n",
    "    print(\"Here is an odd number: {}\".format(n))"
   ]
  },
  {
   "cell_type": "code",
   "execution_count": 127,
   "metadata": {
    "scrolled": false
   },
   "outputs": [
    {
     "name": "stdout",
     "output_type": "stream",
     "text": [
      "Give me a positive number: 9\n",
      "0\n",
      "1\n",
      "2\n",
      "3\n",
      "4\n",
      "5\n",
      "6\n",
      "7\n",
      "8\n",
      "9\n"
     ]
    }
   ],
   "source": [
    "i = int(input(\"Give me a positive number: \"))\n",
    "\n",
    "while i < 1:\n",
    "    i = int(input(\"Give me a positive number: \"))\n",
    "\n",
    "for n in range(0, i+1):\n",
    "    print(n)"
   ]
  },
  {
   "cell_type": "code",
   "execution_count": 297,
   "metadata": {
    "scrolled": true
   },
   "outputs": [
    {
     "name": "stdout",
     "output_type": "stream",
     "text": [
      "Give me a posistive integer: 9\n",
      "9\n",
      "8\n",
      "7\n",
      "6\n",
      "5\n",
      "4\n",
      "3\n",
      "2\n",
      "1\n"
     ]
    }
   ],
   "source": [
    "i = int(input(\"Give me a posistive integer: \"))\n",
    "\n",
    "while i < 1:\n",
    "    i = int(input(\"Give me a posistive integer: \"))\n",
    "\n",
    "for n in range(i, 1-1, -1):\n",
    "    print(n)"
   ]
  },
  {
   "cell_type": "code",
   "execution_count": 177,
   "metadata": {},
   "outputs": [
    {
     "name": "stdout",
     "output_type": "stream",
     "text": [
      "1\n",
      "2\n",
      "Fizz\n",
      "4\n",
      "Buzz\n",
      "Fizz\n",
      "7\n",
      "8\n",
      "Fizz\n",
      "Buzz\n",
      "11\n",
      "Fizz\n",
      "13\n",
      "14\n",
      "FizzBuzz\n",
      "16\n",
      "17\n",
      "Fizz\n",
      "19\n",
      "Buzz\n",
      "Fizz\n",
      "22\n",
      "23\n",
      "Fizz\n",
      "Buzz\n",
      "26\n",
      "Fizz\n",
      "28\n",
      "29\n",
      "FizzBuzz\n",
      "31\n",
      "32\n",
      "Fizz\n",
      "34\n",
      "Buzz\n",
      "Fizz\n",
      "37\n",
      "38\n",
      "Fizz\n",
      "Buzz\n",
      "41\n",
      "Fizz\n",
      "43\n",
      "44\n",
      "FizzBuzz\n",
      "46\n",
      "47\n",
      "Fizz\n",
      "49\n",
      "Buzz\n",
      "Fizz\n",
      "52\n",
      "53\n",
      "Fizz\n",
      "Buzz\n",
      "56\n",
      "Fizz\n",
      "58\n",
      "59\n",
      "FizzBuzz\n",
      "61\n",
      "62\n",
      "Fizz\n",
      "64\n",
      "Buzz\n",
      "Fizz\n",
      "67\n",
      "68\n",
      "Fizz\n",
      "Buzz\n",
      "71\n",
      "Fizz\n",
      "73\n",
      "74\n",
      "FizzBuzz\n",
      "76\n",
      "77\n",
      "Fizz\n",
      "79\n",
      "Buzz\n",
      "Fizz\n",
      "82\n",
      "83\n",
      "Fizz\n",
      "Buzz\n",
      "86\n",
      "Fizz\n",
      "88\n",
      "89\n",
      "FizzBuzz\n",
      "91\n",
      "92\n",
      "Fizz\n",
      "94\n",
      "Buzz\n",
      "Fizz\n",
      "97\n",
      "98\n",
      "Fizz\n",
      "Buzz\n"
     ]
    }
   ],
   "source": [
    "for n in range(1, 101):\n",
    "    if n % 3 == 0 and n % 5 == 0:\n",
    "        print(\"FizzBuzz\")\n",
    "        continue\n",
    "    if n % 3 == 0:\n",
    "        print(\"Fizz\")\n",
    "        continue\n",
    "    if n % 5 == 0:\n",
    "        print(\"Buzz\")\n",
    "        continue\n",
    "    print(n)"
   ]
  },
  {
   "cell_type": "code",
   "execution_count": 309,
   "metadata": {},
   "outputs": [
    {
     "name": "stdout",
     "output_type": "stream",
     "text": [
      "Give me an integer: 7\n",
      "Do you wish to continue? yes\n",
      "number      |squared     |cubed       \n",
      "--------------------------------------\n",
      "1           |1           |1           \n",
      "2           |4           |8           \n",
      "3           |9           |27          \n",
      "4           |16          |64          \n",
      "5           |25          |125         \n",
      "6           |36          |216         \n",
      "7           |49          |343         \n"
     ]
    }
   ],
   "source": [
    "i = int(input(\"Give me an integer: \"))\n",
    "\n",
    "while i < 1:\n",
    "    i = int(input(\"Give me an integer: \"))   \n",
    "\n",
    "number = [n for n in range(1, i + 1)]\n",
    "squared = [n*n for n in range(1, i + 1)]\n",
    "cubed = [n*n*n for n in range(1, i + 1)]\n",
    "columns = [\"number\", \"squared\", \"cubed\"]\n",
    "data = [columns] + list(zip(number, squared, cubed))\n",
    "\n",
    "proceed = input(\"Do you wish to continue? \")\n",
    "\n",
    "if proceed.capitalize() == 'Yes':\n",
    "    for a, h in enumerate(data):\n",
    "        line = '|'.join(str(x).ljust(12) for x in h)\n",
    "        print(line)\n",
    "        if a == 0:\n",
    "            print('-' * len(line))\n",
    "else:\n",
    "    print(\"Halt\")"
   ]
  },
  {
   "cell_type": "code",
   "execution_count": 311,
   "metadata": {},
   "outputs": [
    {
     "name": "stdout",
     "output_type": "stream",
     "text": [
      "Enter your grade here: 89\n",
      "Do you wish to continue? yes\n",
      "A\n"
     ]
    }
   ],
   "source": [
    "grade = int(input(\"Enter your grade here: \"))\n",
    "\n",
    "while grade < 0 or grade > 100:\n",
    "    grade = int(input(\"Enter your grade here: \"))\n",
    "    \n",
    "    \n",
    "proceed = input(\"Do you wish to continue? \")\n",
    "\n",
    "if proceed.capitalize() == 'Yes':\n",
    "    if grade in range(101, 88-1, -1):\n",
    "        print(\"A\")\n",
    "    elif grade in range(87, 80-1, -1):\n",
    "        print(\"B\")\n",
    "    elif grade in range(79, 67-1, -1):\n",
    "        print(\"C\")\n",
    "    elif grade in range(66, 60-1, -1):\n",
    "        print(\"D\")\n",
    "    else:\n",
    "        print(\"F\")\n",
    "else:\n",
    "    print(\"Halt\")"
   ]
  },
  {
   "cell_type": "code",
   "execution_count": 35,
   "metadata": {},
   "outputs": [
    {
     "name": "stdout",
     "output_type": "stream",
     "text": [
      "12 Rules for Life\n",
      "Extreme Ownership\n",
      "The Prophet\n",
      "Lord of the Rings\n",
      "Letter to a Christian Nation\n",
      "Peace is Every Step\n"
     ]
    }
   ],
   "source": [
    "books = [\n",
    "    {\n",
    "        \"title\": \"12 Rules for Life\",\n",
    "        \"author\": \"Jordan Peterson\",\n",
    "        \"genre\": \"Self-help\"\n",
    "    },\n",
    "    {\n",
    "        \"title\": \"Extreme Ownership\",\n",
    "        \"author\": \"Jocko Willink\",\n",
    "        \"genre\": \"Leadership\"\n",
    "    },\n",
    "    {\n",
    "        \"title\": \"The Prophet\",\n",
    "        \"author\": \"Kahlil Gibran\",\n",
    "        \"genre\": \"Poetry\"\n",
    "    },\n",
    "    {\n",
    "        \"title\": \"Lord of the Rings\",\n",
    "        \"author\": \"J. R. R. Tolkien\",\n",
    "        \"genre\": \"Fantasy\"\n",
    "    },\n",
    "    {\n",
    "        \"title\": \"Letter to a Christian Nation\",\n",
    "        \"author\": \"Sam Harris\",\n",
    "        \"genre\": \"Non-fiction\"\n",
    "    },\n",
    "    {\n",
    "        \"title\": \"Peace is Every Step\",\n",
    "        \"author\": \"Thich Nhat Hanh\",\n",
    "        \"genre\": \"Self-help\"\n",
    "    }\n",
    "]\n",
    "\n",
    "for book in books:\n",
    "    print(book[\"title\"])"
   ]
  },
  {
   "cell_type": "code",
   "execution_count": 45,
   "metadata": {
    "scrolled": true
   },
   "outputs": [
    {
     "name": "stdout",
     "output_type": "stream",
     "text": [
      "Enter a genre: Poetry\n"
     ]
    },
    {
     "data": {
      "text/plain": [
       "['The Prophet']"
      ]
     },
     "execution_count": 45,
     "metadata": {},
     "output_type": "execute_result"
    }
   ],
   "source": [
    "genre = input(\"Enter a genre: \")\n",
    "\n",
    "while genre not in [\"Self-help\", \"Leadership\", \"Poetry\", \"Fantasy\", \"Non-fiction\"]:\n",
    "    genre = input(\"Enter a genre: \")\n",
    "\n",
    "[book[\"title\"] for book in books if book[\"genre\"] == genre]\n"
   ]
  },
  {
   "cell_type": "code",
   "execution_count": null,
   "metadata": {},
   "outputs": [],
   "source": [
    "while genre.capitalize() not in [\"Self-help\", \"Leadership\", \"Poetry\", \"Fantasy\", \"Non-fiction\"]:\n",
    "    genre = input(\"Enter a genre: \")"
   ]
  }
 ],
 "metadata": {
  "kernelspec": {
   "display_name": "Python 3",
   "language": "python",
   "name": "python3"
  },
  "language_info": {
   "codemirror_mode": {
    "name": "ipython",
    "version": 3
   },
   "file_extension": ".py",
   "mimetype": "text/x-python",
   "name": "python",
   "nbconvert_exporter": "python",
   "pygments_lexer": "ipython3",
   "version": "3.7.4"
  }
 },
 "nbformat": 4,
 "nbformat_minor": 2
}
