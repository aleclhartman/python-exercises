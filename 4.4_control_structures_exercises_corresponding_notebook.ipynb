{
 "cells": [
  {
   "cell_type": "code",
   "execution_count": 3,
   "metadata": {},
   "outputs": [
    {
     "name": "stdout",
     "output_type": "stream",
     "text": [
      "What day is it? Monday\n",
      "Happy Monday\n"
     ]
    }
   ],
   "source": [
    "day = input(\"What day is it? \")\n",
    "\n",
    "if day == \"Monday\":\n",
    "    print(\"Happy Monday\")\n",
    "else:\n",
    "    print(\"Not Monday\")"
   ]
  },
  {
   "cell_type": "code",
   "execution_count": 5,
   "metadata": {},
   "outputs": [
    {
     "name": "stdout",
     "output_type": "stream",
     "text": [
      "What day is it? Sunday\n",
      "Weekend :)\n"
     ]
    }
   ],
   "source": [
    "day = input(\"What day is it? \")\n",
    "\n",
    "if day == \"Saturday\":\n",
    "    print(\"Weekend :)\")\n",
    "elif day == \"Sunday\":\n",
    "    print(\"Weekend :)\")\n",
    "else:\n",
    "    print(\"Weekday\")"
   ]
  },
  {
   "cell_type": "code",
   "execution_count": null,
   "metadata": {},
   "outputs": [],
   "source": []
  }
 ],
 "metadata": {
  "kernelspec": {
   "display_name": "Python 3",
   "language": "python",
   "name": "python3"
  },
  "language_info": {
   "codemirror_mode": {
    "name": "ipython",
    "version": 3
   },
   "file_extension": ".py",
   "mimetype": "text/x-python",
   "name": "python",
   "nbconvert_exporter": "python",
   "pygments_lexer": "ipython3",
   "version": "3.7.4"
  }
 },
 "nbformat": 4,
 "nbformat_minor": 2
}
