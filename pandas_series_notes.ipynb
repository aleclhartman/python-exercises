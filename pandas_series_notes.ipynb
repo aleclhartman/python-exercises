{
 "cells": [
  {
   "cell_type": "markdown",
   "metadata": {},
   "source": [
    "# Pandas\n",
    "\n",
    "## Series"
   ]
  },
  {
   "cell_type": "markdown",
   "metadata": {},
   "source": [
    "- Single dimensional data structure\n",
    "- Combination of series, can create a dataframe\n",
    "- Anything you can do with a numpy array, you can also do with a pandas series\n"
   ]
  },
  {
   "cell_type": "code",
   "execution_count": 1,
   "metadata": {},
   "outputs": [],
   "source": [
    "import numpy as np\n",
    "import pandas as pd"
   ]
  },
  {
   "cell_type": "code",
   "execution_count": 2,
   "metadata": {},
   "outputs": [
    {
     "data": {
      "text/plain": [
       "0    74\n",
       "1    56\n",
       "2    26\n",
       "3     8\n",
       "4   -13\n",
       "5     4\n",
       "dtype: int64"
      ]
     },
     "execution_count": 2,
     "metadata": {},
     "output_type": "execute_result"
    }
   ],
   "source": [
    "s = pd.Series([74, 56, 26, 8, -13, 4])\n",
    "s"
   ]
  },
  {
   "cell_type": "markdown",
   "metadata": {},
   "source": [
    "- Index is a way to identify rows"
   ]
  },
  {
   "cell_type": "code",
   "execution_count": 3,
   "metadata": {},
   "outputs": [
    {
     "data": {
      "text/plain": [
       "4   -13\n",
       "5     4\n",
       "3     8\n",
       "2    26\n",
       "1    56\n",
       "0    74\n",
       "dtype: int64"
      ]
     },
     "execution_count": 3,
     "metadata": {},
     "output_type": "execute_result"
    }
   ],
   "source": [
    "s = pd.Series([74, 56, 26, 8, -13, 4])\n",
    "s.sort_values()"
   ]
  },
  {
   "cell_type": "code",
   "execution_count": 4,
   "metadata": {},
   "outputs": [],
   "source": [
    "letters = pd.Series(np.random.choice(list(\"abcdefghijklmnopqrstuvwxyz\"), 100))\n",
    "numbers = pd.Series(np.random.choice(np.arange(1, 101), 100))"
   ]
  },
  {
   "cell_type": "code",
   "execution_count": 5,
   "metadata": {},
   "outputs": [
    {
     "data": {
      "text/plain": [
       "0     85.0\n",
       "1      1.0\n",
       "2      4.0\n",
       "3     74.0\n",
       "4     15.0\n",
       "      ... \n",
       "95     6.0\n",
       "96    28.0\n",
       "97    75.0\n",
       "98    35.0\n",
       "99    62.0\n",
       "Length: 100, dtype: float64"
      ]
     },
     "execution_count": 5,
     "metadata": {},
     "output_type": "execute_result"
    }
   ],
   "source": [
    "numbers.astype(\"float\")"
   ]
  },
  {
   "cell_type": "code",
   "execution_count": 6,
   "metadata": {},
   "outputs": [
    {
     "data": {
      "text/plain": [
       "0     False\n",
       "1     False\n",
       "2     False\n",
       "3     False\n",
       "4     False\n",
       "      ...  \n",
       "95    False\n",
       "96    False\n",
       "97    False\n",
       "98    False\n",
       "99    False\n",
       "Length: 100, dtype: bool"
      ]
     },
     "execution_count": 6,
     "metadata": {},
     "output_type": "execute_result"
    }
   ],
   "source": [
    "letters == \"a\""
   ]
  },
  {
   "cell_type": "code",
   "execution_count": 7,
   "metadata": {},
   "outputs": [
    {
     "data": {
      "text/plain": [
       "9     a\n",
       "22    a\n",
       "41    a\n",
       "65    a\n",
       "82    a\n",
       "90    a\n",
       "dtype: object"
      ]
     },
     "execution_count": 7,
     "metadata": {},
     "output_type": "execute_result"
    }
   ],
   "source": [
    "letters[letters == \"a\"]"
   ]
  },
  {
   "cell_type": "markdown",
   "metadata": {},
   "source": [
    "- Vector - applies to a collection of things as opposed to a single thing"
   ]
  },
  {
   "cell_type": "code",
   "execution_count": 8,
   "metadata": {},
   "outputs": [
    {
     "data": {
      "text/plain": [
       "0     85\n",
       "1      1\n",
       "2      4\n",
       "3     74\n",
       "4     15\n",
       "      ..\n",
       "95     6\n",
       "96    28\n",
       "97    75\n",
       "98    35\n",
       "99    62\n",
       "Length: 100, dtype: int64"
      ]
     },
     "execution_count": 8,
     "metadata": {},
     "output_type": "execute_result"
    }
   ],
   "source": [
    "numbers"
   ]
  },
  {
   "cell_type": "code",
   "execution_count": 9,
   "metadata": {},
   "outputs": [
    {
     "data": {
      "text/plain": [
       "0      85\n",
       "3      74\n",
       "6      89\n",
       "7     100\n",
       "8      88\n",
       "11     99\n",
       "13     75\n",
       "14     89\n",
       "16     91\n",
       "18     94\n",
       "23     52\n",
       "24     68\n",
       "27     60\n",
       "28     54\n",
       "29     73\n",
       "30     95\n",
       "33     80\n",
       "35     77\n",
       "38     83\n",
       "40     98\n",
       "41     61\n",
       "43     85\n",
       "45     53\n",
       "47     53\n",
       "49     90\n",
       "51     61\n",
       "53     75\n",
       "54     64\n",
       "55     68\n",
       "56     95\n",
       "58     77\n",
       "59     97\n",
       "60     65\n",
       "62    100\n",
       "64     94\n",
       "65     81\n",
       "67     77\n",
       "69     97\n",
       "71     54\n",
       "72     80\n",
       "73     62\n",
       "75     58\n",
       "77     98\n",
       "79     51\n",
       "80     64\n",
       "82     84\n",
       "87     76\n",
       "89     57\n",
       "90     99\n",
       "92     85\n",
       "97     75\n",
       "99     62\n",
       "dtype: int64"
      ]
     },
     "execution_count": 9,
     "metadata": {},
     "output_type": "execute_result"
    }
   ],
   "source": [
    "numbers[numbers > 50]"
   ]
  },
  {
   "cell_type": "markdown",
   "metadata": {},
   "source": [
    "- \"mask\" is a term we use to describe true/false values"
   ]
  },
  {
   "cell_type": "code",
   "execution_count": 10,
   "metadata": {},
   "outputs": [
    {
     "data": {
      "text/plain": [
       "0      85\n",
       "3      74\n",
       "6      89\n",
       "7     100\n",
       "8      88\n",
       "11     99\n",
       "13     75\n",
       "14     89\n",
       "16     91\n",
       "18     94\n",
       "23     52\n",
       "24     68\n",
       "27     60\n",
       "28     54\n",
       "29     73\n",
       "30     95\n",
       "33     80\n",
       "35     77\n",
       "38     83\n",
       "40     98\n",
       "41     61\n",
       "43     85\n",
       "45     53\n",
       "47     53\n",
       "49     90\n",
       "51     61\n",
       "53     75\n",
       "54     64\n",
       "55     68\n",
       "56     95\n",
       "58     77\n",
       "59     97\n",
       "60     65\n",
       "62    100\n",
       "64     94\n",
       "65     81\n",
       "67     77\n",
       "69     97\n",
       "71     54\n",
       "72     80\n",
       "73     62\n",
       "75     58\n",
       "77     98\n",
       "79     51\n",
       "80     64\n",
       "82     84\n",
       "87     76\n",
       "89     57\n",
       "90     99\n",
       "92     85\n",
       "97     75\n",
       "99     62\n",
       "dtype: int64"
      ]
     },
     "execution_count": 10,
     "metadata": {},
     "output_type": "execute_result"
    }
   ],
   "source": [
    "mask = numbers > 50\n",
    "numbers[mask]"
   ]
  },
  {
   "cell_type": "code",
   "execution_count": 11,
   "metadata": {},
   "outputs": [
    {
     "data": {
      "text/plain": [
       "7     100\n",
       "27     60\n",
       "33     80\n",
       "49     90\n",
       "62    100\n",
       "72     80\n",
       "dtype: int64"
      ]
     },
     "execution_count": 11,
     "metadata": {},
     "output_type": "execute_result"
    }
   ],
   "source": [
    "greater_than_50_filter = numbers > 50\n",
    "is_even_filter = numbers % 2 == 0\n",
    "is_divisible_by_5 = numbers % 5 == 0\n",
    "numbers[greater_than_50_filter & is_even_filter & is_divisible_by_5]"
   ]
  },
  {
   "cell_type": "markdown",
   "metadata": {},
   "source": [
    "- \"~\" in code acts as \"not\""
   ]
  },
  {
   "cell_type": "code",
   "execution_count": 12,
   "metadata": {},
   "outputs": [
    {
     "data": {
      "text/plain": [
       "19    20\n",
       "44    20\n",
       "52    40\n",
       "81    30\n",
       "dtype: int64"
      ]
     },
     "execution_count": 12,
     "metadata": {},
     "output_type": "execute_result"
    }
   ],
   "source": [
    "greater_than_50_filter = numbers > 50\n",
    "is_even_filter = numbers % 2 == 0\n",
    "numbers[~ greater_than_50_filter & is_even_filter & is_divisible_by_5]"
   ]
  },
  {
   "cell_type": "code",
   "execution_count": 13,
   "metadata": {},
   "outputs": [
    {
     "data": {
      "text/plain": [
       "0     False\n",
       "1     False\n",
       "2     False\n",
       "3     False\n",
       "4     False\n",
       "      ...  \n",
       "95    False\n",
       "96    False\n",
       "97    False\n",
       "98    False\n",
       "99    False\n",
       "Length: 100, dtype: bool"
      ]
     },
     "execution_count": 13,
     "metadata": {},
     "output_type": "execute_result"
    }
   ],
   "source": [
    "vowels = list(\"aeiou\")\n",
    "letters.isin(vowels)"
   ]
  },
  {
   "cell_type": "code",
   "execution_count": 14,
   "metadata": {},
   "outputs": [
    {
     "data": {
      "text/plain": [
       "0     False\n",
       "1     False\n",
       "2     False\n",
       "3     False\n",
       "4     False\n",
       "      ...  \n",
       "95    False\n",
       "96    False\n",
       "97    False\n",
       "98    False\n",
       "99    False\n",
       "Length: 100, dtype: bool"
      ]
     },
     "execution_count": 14,
     "metadata": {},
     "output_type": "execute_result"
    }
   ],
   "source": [
    "# below is equivalent to above:\n",
    "(letters == \"a\") | (letters == \"e\") | (letters == \"i\") | (letters == \"o\") | (letters == \"u\")"
   ]
  },
  {
   "cell_type": "code",
   "execution_count": 15,
   "metadata": {},
   "outputs": [
    {
     "data": {
      "text/plain": [
       "True"
      ]
     },
     "execution_count": 15,
     "metadata": {},
     "output_type": "execute_result"
    }
   ],
   "source": [
    "\"a\" in vowels"
   ]
  },
  {
   "cell_type": "code",
   "execution_count": 16,
   "metadata": {},
   "outputs": [
    {
     "data": {
      "text/plain": [
       "9     a\n",
       "18    i\n",
       "22    a\n",
       "24    i\n",
       "26    u\n",
       "29    i\n",
       "30    u\n",
       "35    i\n",
       "37    u\n",
       "41    a\n",
       "54    u\n",
       "57    u\n",
       "60    o\n",
       "61    e\n",
       "65    a\n",
       "66    u\n",
       "69    i\n",
       "82    a\n",
       "90    a\n",
       "91    e\n",
       "93    u\n",
       "94    i\n",
       "dtype: object"
      ]
     },
     "execution_count": 16,
     "metadata": {},
     "output_type": "execute_result"
    }
   ],
   "source": [
    "vowels = list(\"aeiou\")\n",
    "letters[letters.isin(vowels)]"
   ]
  },
  {
   "cell_type": "code",
   "execution_count": 17,
   "metadata": {},
   "outputs": [
    {
     "data": {
      "text/plain": [
       "0     0\n",
       "1     0\n",
       "2     0\n",
       "3     0\n",
       "4     0\n",
       "     ..\n",
       "95    0\n",
       "96    0\n",
       "97    0\n",
       "98    0\n",
       "99    0\n",
       "Length: 100, dtype: int64"
      ]
     },
     "execution_count": 17,
     "metadata": {},
     "output_type": "execute_result"
    }
   ],
   "source": [
    "letters.isin(vowels).astype(int)"
   ]
  },
  {
   "cell_type": "code",
   "execution_count": 18,
   "metadata": {},
   "outputs": [
    {
     "data": {
      "text/plain": [
       "22"
      ]
     },
     "execution_count": 18,
     "metadata": {},
     "output_type": "execute_result"
    }
   ],
   "source": [
    "letters.isin(vowels).astype(int).sum()"
   ]
  },
  {
   "cell_type": "code",
   "execution_count": 19,
   "metadata": {},
   "outputs": [
    {
     "data": {
      "text/plain": [
       "22"
      ]
     },
     "execution_count": 19,
     "metadata": {},
     "output_type": "execute_result"
    }
   ],
   "source": [
    "letters.isin(vowels).sum()"
   ]
  },
  {
   "cell_type": "code",
   "execution_count": 20,
   "metadata": {},
   "outputs": [
    {
     "data": {
      "text/plain": [
       "'aiaiuiuiuauuoeauiaaeui'"
      ]
     },
     "execution_count": 20,
     "metadata": {},
     "output_type": "execute_result"
    }
   ],
   "source": [
    "letters[letters.isin(vowels)].sum()"
   ]
  },
  {
   "cell_type": "code",
   "execution_count": 21,
   "metadata": {},
   "outputs": [
    {
     "data": {
      "text/plain": [
       "(22,)"
      ]
     },
     "execution_count": 21,
     "metadata": {},
     "output_type": "execute_result"
    }
   ],
   "source": [
    "letters[letters.isin(vowels)].shape"
   ]
  },
  {
   "cell_type": "code",
   "execution_count": 22,
   "metadata": {},
   "outputs": [
    {
     "data": {
      "text/plain": [
       "22"
      ]
     },
     "execution_count": 22,
     "metadata": {},
     "output_type": "execute_result"
    }
   ],
   "source": [
    "letters[letters.isin(vowels)].size"
   ]
  },
  {
   "cell_type": "code",
   "execution_count": 23,
   "metadata": {},
   "outputs": [
    {
     "data": {
      "text/plain": [
       "True"
      ]
     },
     "execution_count": 23,
     "metadata": {},
     "output_type": "execute_result"
    }
   ],
   "source": [
    "(letters == \"b\").any()"
   ]
  },
  {
   "cell_type": "code",
   "execution_count": 24,
   "metadata": {},
   "outputs": [
    {
     "data": {
      "text/plain": [
       "True"
      ]
     },
     "execution_count": 24,
     "metadata": {},
     "output_type": "execute_result"
    }
   ],
   "source": [
    "(numbers > 0).all()"
   ]
  },
  {
   "cell_type": "markdown",
   "metadata": {},
   "source": [
    "- .any() and .all() are aggregators"
   ]
  },
  {
   "cell_type": "code",
   "execution_count": 25,
   "metadata": {},
   "outputs": [
    {
     "data": {
      "text/plain": [
       "u    7\n",
       "a    6\n",
       "i    6\n",
       "e    2\n",
       "o    1\n",
       "dtype: int64"
      ]
     },
     "execution_count": 25,
     "metadata": {},
     "output_type": "execute_result"
    }
   ],
   "source": [
    "letters[letters.isin(vowels)].value_counts()"
   ]
  },
  {
   "cell_type": "markdown",
   "metadata": {},
   "source": [
    "- **expressions are evaluated inside out**"
   ]
  },
  {
   "cell_type": "code",
   "execution_count": 26,
   "metadata": {},
   "outputs": [
    {
     "data": {
      "text/plain": [
       "pandas.core.series.Series"
      ]
     },
     "execution_count": 26,
     "metadata": {},
     "output_type": "execute_result"
    }
   ],
   "source": [
    "type(letters[letters.isin(vowels)])"
   ]
  },
  {
   "cell_type": "code",
   "execution_count": 27,
   "metadata": {},
   "outputs": [
    {
     "data": {
      "text/plain": [
       "7"
      ]
     },
     "execution_count": 27,
     "metadata": {},
     "output_type": "execute_result"
    }
   ],
   "source": [
    "letters[letters.isin(vowels)].value_counts().max()"
   ]
  },
  {
   "cell_type": "code",
   "execution_count": 28,
   "metadata": {},
   "outputs": [
    {
     "data": {
      "text/plain": [
       "u    7\n",
       "dtype: int64"
      ]
     },
     "execution_count": 28,
     "metadata": {},
     "output_type": "execute_result"
    }
   ],
   "source": [
    "letters[letters.isin(vowels)].value_counts().sort_values().tail(1)"
   ]
  },
  {
   "cell_type": "markdown",
   "metadata": {},
   "source": [
    "- **above is an example of method chaining**"
   ]
  },
  {
   "cell_type": "code",
   "execution_count": 29,
   "metadata": {},
   "outputs": [
    {
     "data": {
      "text/plain": [
       "(100, 50.87, 31.405029192564978)"
      ]
     },
     "execution_count": 29,
     "metadata": {},
     "output_type": "execute_result"
    }
   ],
   "source": [
    "numbers.count(), numbers.mean(), numbers.std()"
   ]
  },
  {
   "cell_type": "markdown",
   "metadata": {},
   "source": [
    "- above is a tuple"
   ]
  },
  {
   "cell_type": "code",
   "execution_count": 30,
   "metadata": {},
   "outputs": [
    {
     "data": {
      "text/plain": [
       "count    100.000000\n",
       "mean      50.870000\n",
       "std       31.405029\n",
       "dtype: float64"
      ]
     },
     "execution_count": 30,
     "metadata": {},
     "output_type": "execute_result"
    }
   ],
   "source": [
    "numbers.agg([\"count\", \"mean\", \"std\"])"
   ]
  },
  {
   "cell_type": "markdown",
   "metadata": {},
   "source": [
    "- above is a series"
   ]
  },
  {
   "cell_type": "code",
   "execution_count": 31,
   "metadata": {},
   "outputs": [
    {
     "data": {
      "text/plain": [
       "100.0"
      ]
     },
     "execution_count": 31,
     "metadata": {},
     "output_type": "execute_result"
    }
   ],
   "source": [
    "numbers.agg([\"count\", \"mean\", \"std\"])[0]"
   ]
  },
  {
   "cell_type": "code",
   "execution_count": 32,
   "metadata": {},
   "outputs": [
    {
     "data": {
      "text/plain": [
       "50.87"
      ]
     },
     "execution_count": 32,
     "metadata": {},
     "output_type": "execute_result"
    }
   ],
   "source": [
    "numbers.agg([\"count\", \"mean\", \"std\"])[\"mean\"]"
   ]
  },
  {
   "cell_type": "markdown",
   "metadata": {},
   "source": [
    "- can index by position or name of index"
   ]
  },
  {
   "cell_type": "code",
   "execution_count": 33,
   "metadata": {},
   "outputs": [
    {
     "data": {
      "text/plain": [
       "count    100.0\n",
       "dtype: float64"
      ]
     },
     "execution_count": 33,
     "metadata": {},
     "output_type": "execute_result"
    }
   ],
   "source": [
    "numbers.agg([\"count\", \"mean\", \"std\"]).head(1)"
   ]
  },
  {
   "cell_type": "code",
   "execution_count": 34,
   "metadata": {},
   "outputs": [
    {
     "data": {
      "text/plain": [
       "std    31.405029\n",
       "dtype: float64"
      ]
     },
     "execution_count": 34,
     "metadata": {},
     "output_type": "execute_result"
    }
   ],
   "source": [
    "numbers.agg([\"count\", \"mean\", \"std\"]).tail(1)"
   ]
  },
  {
   "cell_type": "code",
   "execution_count": 35,
   "metadata": {},
   "outputs": [
    {
     "data": {
      "text/plain": [
       "count    100.000000\n",
       "mean      50.870000\n",
       "std       31.405029\n",
       "min        1.000000\n",
       "25%       22.500000\n",
       "50%       52.500000\n",
       "75%       77.750000\n",
       "max      100.000000\n",
       "dtype: float64"
      ]
     },
     "execution_count": 35,
     "metadata": {},
     "output_type": "execute_result"
    }
   ],
   "source": [
    "numbers.describe()"
   ]
  },
  {
   "cell_type": "code",
   "execution_count": 36,
   "metadata": {},
   "outputs": [
    {
     "data": {
      "text/plain": [
       "count    100.000000\n",
       "mean      50.870000\n",
       "std       31.405029\n",
       "min        1.000000\n",
       "25%       22.500000\n",
       "50%       52.500000\n",
       "75%       77.750000\n",
       "max      100.000000\n",
       "dtype: float64"
      ]
     },
     "execution_count": 36,
     "metadata": {},
     "output_type": "execute_result"
    }
   ],
   "source": [
    "numbers_summary = numbers.describe()\n",
    "numbers_summary"
   ]
  },
  {
   "cell_type": "code",
   "execution_count": 37,
   "metadata": {},
   "outputs": [
    {
     "data": {
      "text/plain": [
       "55.25"
      ]
     },
     "execution_count": 37,
     "metadata": {},
     "output_type": "execute_result"
    }
   ],
   "source": [
    "interquartile_range = numbers_summary[\"75%\"] - numbers_summary[\"25%\"]\n",
    "interquartile_range"
   ]
  },
  {
   "cell_type": "code",
   "execution_count": 38,
   "metadata": {},
   "outputs": [
    {
     "data": {
      "text/plain": [
       "0     Not evenly divisible by four :(\n",
       "1     Not evenly divisible by four :(\n",
       "2           Evenly divisible by four!\n",
       "3     Not evenly divisible by four :(\n",
       "4     Not evenly divisible by four :(\n",
       "                   ...               \n",
       "95    Not evenly divisible by four :(\n",
       "96          Evenly divisible by four!\n",
       "97    Not evenly divisible by four :(\n",
       "98    Not evenly divisible by four :(\n",
       "99    Not evenly divisible by four :(\n",
       "Length: 100, dtype: object"
      ]
     },
     "execution_count": 38,
     "metadata": {},
     "output_type": "execute_result"
    }
   ],
   "source": [
    "def is_divisible_by_4(n):\n",
    "    if n % 4 == 0:\n",
    "        return \"Evenly divisible by four!\"\n",
    "    else:\n",
    "        return \"Not evenly divisible by four :(\"\n",
    "    \n",
    "numbers.apply(is_divisible_by_4) # equivalent to running a for loop"
   ]
  },
  {
   "cell_type": "markdown",
   "metadata": {},
   "source": [
    "## Jupyter Notebook Best Practices"
   ]
  },
  {
   "cell_type": "markdown",
   "metadata": {},
   "source": [
    "- variables and functions will exist in a notebook as long as you have the ketnal open\n",
    "- close, open, and run all cells to remove references to the old unsed functions\n",
    "- **frequently restart kernal and run the cells from top to bottom**"
   ]
  },
  {
   "cell_type": "code",
   "execution_count": 45,
   "metadata": {},
   "outputs": [
    {
     "data": {
      "text/plain": [
       "[0, 25)      28\n",
       "[25, 50)     20\n",
       "[50, 75)     20\n",
       "[75, 101)    32\n",
       "dtype: int64"
      ]
     },
     "execution_count": 45,
     "metadata": {},
     "output_type": "execute_result"
    }
   ],
   "source": [
    "def bin_number(n):\n",
    "    if n < 25:\n",
    "        return \"[0, 25)\"\n",
    "    elif n < 50:\n",
    "        return \"[25, 50)\"\n",
    "    elif n < 75:\n",
    "        return \"[50, 75)\"\n",
    "    else:\n",
    "        return \"[75, 101)\"\n",
    "    \n",
    "numbers.apply(bin_number).value_counts().sort_index()"
   ]
  },
  {
   "cell_type": "code",
   "execution_count": 47,
   "metadata": {},
   "outputs": [
    {
     "data": {
      "text/plain": [
       "(0.9, 25.75]      29\n",
       "(25.75, 50.5]     19\n",
       "(50.5, 75.25]     23\n",
       "(75.25, 100.0]    29\n",
       "dtype: int64"
      ]
     },
     "execution_count": 47,
     "metadata": {},
     "output_type": "execute_result"
    }
   ],
   "source": [
    "numbers.value_counts(bins=4).sort_index()"
   ]
  },
  {
   "cell_type": "code",
   "execution_count": 57,
   "metadata": {},
   "outputs": [
    {
     "data": {
      "text/plain": [
       "0     (75.25, 100.0]\n",
       "1     (0.901, 25.75]\n",
       "2     (0.901, 25.75]\n",
       "3      (50.5, 75.25]\n",
       "4     (0.901, 25.75]\n",
       "           ...      \n",
       "95    (0.901, 25.75]\n",
       "96     (25.75, 50.5]\n",
       "97     (50.5, 75.25]\n",
       "98     (25.75, 50.5]\n",
       "99     (50.5, 75.25]\n",
       "Length: 100, dtype: category\n",
       "Categories (4, interval[float64]): [(0.901, 25.75] < (25.75, 50.5] < (50.5, 75.25] < (75.25, 100.0]]"
      ]
     },
     "execution_count": 57,
     "metadata": {},
     "output_type": "execute_result"
    }
   ],
   "source": [
    "pd.cut(numbers, 4)"
   ]
  },
  {
   "cell_type": "code",
   "execution_count": 58,
   "metadata": {
    "scrolled": true
   },
   "outputs": [
    {
     "data": {
      "text/plain": [
       "(75.25, 100.0]    29\n",
       "(50.5, 75.25]     23\n",
       "(25.75, 50.5]     19\n",
       "(0.901, 25.75]    29\n",
       "dtype: int64"
      ]
     },
     "execution_count": 58,
     "metadata": {},
     "output_type": "execute_result"
    }
   ],
   "source": [
    "pd.cut(numbers, 4).value_counts().sort_index(ascending=False)"
   ]
  },
  {
   "cell_type": "code",
   "execution_count": 59,
   "metadata": {},
   "outputs": [
    {
     "data": {
      "text/plain": [
       "very large    29\n",
       "large         23\n",
       "small         19\n",
       "very small    29\n",
       "dtype: int64"
      ]
     },
     "execution_count": 59,
     "metadata": {},
     "output_type": "execute_result"
    }
   ],
   "source": [
    "pd.cut(numbers, 4, labels=[\"very small\", \"small\", \"large\", \"very large\"]).value_counts().sort_index(ascending=False)"
   ]
  },
  {
   "cell_type": "markdown",
   "metadata": {},
   "source": [
    "## Binning Data\n",
    "\n",
    "- pd.cut for ~ equal sized bins (by width; but maybe not the same number of values in each bin)\n",
    "- pd.qcut for ~ the same number of values in each bin (but the bins might have different widths)"
   ]
  },
  {
   "cell_type": "code",
   "execution_count": 61,
   "metadata": {
    "scrolled": true
   },
   "outputs": [
    {
     "data": {
      "text/plain": [
       "(0.901, 13.375]    14\n",
       "(13.375, 25.75]    15\n",
       "(25.75, 38.125]    13\n",
       "(38.125, 50.5]      6\n",
       "(50.5, 62.875]     13\n",
       "(62.875, 75.25]    10\n",
       "(75.25, 87.625]    12\n",
       "(87.625, 100.0]    17\n",
       "dtype: int64"
      ]
     },
     "execution_count": 61,
     "metadata": {},
     "output_type": "execute_result"
    }
   ],
   "source": [
    "pd.cut(numbers, 8).value_counts().sort_index()"
   ]
  },
  {
   "cell_type": "code",
   "execution_count": 62,
   "metadata": {},
   "outputs": [
    {
     "data": {
      "text/plain": [
       "(0.999, 12.375]    13\n",
       "(12.375, 22.5]     12\n",
       "(22.5, 35.0]       14\n",
       "(35.0, 52.5]       11\n",
       "(52.5, 64.0]       13\n",
       "(64.0, 77.75]      12\n",
       "(77.75, 90.625]    12\n",
       "(90.625, 100.0]    13\n",
       "dtype: int64"
      ]
     },
     "execution_count": 62,
     "metadata": {},
     "output_type": "execute_result"
    }
   ],
   "source": [
    "pd.qcut(numbers, 8).value_counts().sort_index()"
   ]
  },
  {
   "cell_type": "code",
   "execution_count": 64,
   "metadata": {},
   "outputs": [
    {
     "data": {
      "text/plain": [
       "0     not evenly divisible by four :(\n",
       "1     not evenly divisible by four :(\n",
       "2           evenly divisible by four!\n",
       "3     not evenly divisible by four :(\n",
       "4     not evenly divisible by four :(\n",
       "                   ...               \n",
       "95    not evenly divisible by four :(\n",
       "96          evenly divisible by four!\n",
       "97    not evenly divisible by four :(\n",
       "98    not evenly divisible by four :(\n",
       "99    not evenly divisible by four :(\n",
       "Length: 100, dtype: object"
      ]
     },
     "execution_count": 64,
     "metadata": {},
     "output_type": "execute_result"
    }
   ],
   "source": [
    "# lowercase\n",
    "numbers.apply(is_divisible_by_4).str.lower()"
   ]
  },
  {
   "cell_type": "code",
   "execution_count": 66,
   "metadata": {},
   "outputs": [
    {
     "data": {
      "text/plain": [
       "0     Not \n",
       "1     Not \n",
       "2     Even\n",
       "3     Not \n",
       "4     Not \n",
       "      ... \n",
       "95    Not \n",
       "96    Even\n",
       "97    Not \n",
       "98    Not \n",
       "99    Not \n",
       "Length: 100, dtype: object"
      ]
     },
     "execution_count": 66,
     "metadata": {},
     "output_type": "execute_result"
    }
   ],
   "source": [
    "numbers.apply(is_divisible_by_4).str[:4]"
   ]
  },
  {
   "cell_type": "code",
   "execution_count": 67,
   "metadata": {},
   "outputs": [
    {
     "data": {
      "text/plain": [
       "0    Not evenly divisible by four :(\n",
       "1    Not evenly divisible by four :(\n",
       "2          Evenly divisible by four!\n",
       "3    Not evenly divisible by four :(\n",
       "dtype: object"
      ]
     },
     "execution_count": 67,
     "metadata": {},
     "output_type": "execute_result"
    }
   ],
   "source": [
    "numbers.apply(is_divisible_by_4)[:4]"
   ]
  },
  {
   "cell_type": "code",
   "execution_count": 71,
   "metadata": {},
   "outputs": [
    {
     "data": {
      "text/plain": [
       "<matplotlib.axes._subplots.AxesSubplot at 0x11e955050>"
      ]
     },
     "execution_count": 71,
     "metadata": {},
     "output_type": "execute_result"
    },
    {
     "data": {
      "image/png": "[encoded data removed]",
      "text/plain": [
       "<Figure size 432x288 with 1 Axes>"
      ]
     },
     "metadata": {
      "needs_background": "light"
     },
     "output_type": "display_data"
    }
   ],
   "source": [
    "%matplotlib inline\n",
    "\n",
    "numbers.plot()"
   ]
  },
  {
   "cell_type": "code",
   "execution_count": 76,
   "metadata": {},
   "outputs": [
    {
     "data": {
      "image/png": "[encoded data removed]",
      "text/plain": [
       "<Figure size 432x288 with 1 Axes>"
      ]
     },
     "metadata": {
      "needs_background": "light"
     },
     "output_type": "display_data"
    }
   ],
   "source": [
    "import matplotlib.pyplot as plt\n",
    "\n",
    "numbers.plot.hist()\n",
    "plt.title(\"Distribution of Numbers\")\n",
    "plt.show()"
   ]
  },
  {
   "cell_type": "code",
   "execution_count": 83,
   "metadata": {},
   "outputs": [
    {
     "data": {
      "text/plain": [
       "(array([0, 1, 2, 3, 4]), <a list of 5 Text xticklabel objects>)"
      ]
     },
     "execution_count": 83,
     "metadata": {},
     "output_type": "execute_result"
    },
    {
     "data": {
      "image/png": "[encoded data removed]",
      "text/plain": [
       "<Figure size 432x288 with 1 Axes>"
      ]
     },
     "metadata": {
      "needs_background": "light"
     },
     "output_type": "display_data"
    }
   ],
   "source": [
    "letters[letters.isin(vowels)].value_counts().plot.bar()\n",
    "plt.xticks(rotation=0)"
   ]
  },
  {
   "cell_type": "code",
   "execution_count": 84,
   "metadata": {},
   "outputs": [
    {
     "data": {
      "text/plain": [
       "0    1\n",
       "1    2\n",
       "2    3\n",
       "dtype: int64"
      ]
     },
     "execution_count": 84,
     "metadata": {},
     "output_type": "execute_result"
    }
   ],
   "source": [
    "s = pd.Series([1, 2, 3])\n",
    "s"
   ]
  },
  {
   "cell_type": "code",
   "execution_count": 87,
   "metadata": {},
   "outputs": [
    {
     "data": {
      "text/plain": [
       "0    16\n",
       "1     2\n",
       "2     3\n",
       "dtype: int64"
      ]
     },
     "execution_count": 87,
     "metadata": {},
     "output_type": "execute_result"
    }
   ],
   "source": [
    "s[0] = 16\n",
    "s"
   ]
  },
  {
   "cell_type": "code",
   "execution_count": 89,
   "metadata": {},
   "outputs": [
    {
     "data": {
      "text/plain": [
       "0    1.0\n",
       "1    2.0\n",
       "2    3.0\n",
       "3    NaN\n",
       "4    4.0\n",
       "5    5.0\n",
       "6    6.0\n",
       "dtype: float64"
      ]
     },
     "execution_count": 89,
     "metadata": {},
     "output_type": "execute_result"
    }
   ],
   "source": [
    "pd.Series([1, 2, 3, np.nan, 4, 5, 6])"
   ]
  },
  {
   "cell_type": "code",
   "execution_count": 90,
   "metadata": {},
   "outputs": [
    {
     "data": {
      "text/plain": [
       "0    1.0\n",
       "1    2.0\n",
       "2    3.0\n",
       "3    0.0\n",
       "4    4.0\n",
       "5    5.0\n",
       "6    6.0\n",
       "dtype: float64"
      ]
     },
     "execution_count": 90,
     "metadata": {},
     "output_type": "execute_result"
    }
   ],
   "source": [
    "pd.Series([1, 2, 3, np.nan, 4, 5, 6]).fillna(0)"
   ]
  },
  {
   "cell_type": "code",
   "execution_count": 91,
   "metadata": {},
   "outputs": [
    {
     "data": {
      "text/plain": [
       "'0.25.1'"
      ]
     },
     "execution_count": 91,
     "metadata": {},
     "output_type": "execute_result"
    }
   ],
   "source": [
    "pd.__version__"
   ]
  },
  {
   "cell_type": "code",
   "execution_count": null,
   "metadata": {},
   "outputs": [],
   "source": []
  }
 ],
 "metadata": {
  "kernelspec": {
   "display_name": "Python 3",
   "language": "python",
   "name": "python3"
  },
  "language_info": {
   "codemirror_mode": {
    "name": "ipython",
    "version": 3
   },
   "file_extension": ".py",
   "mimetype": "text/x-python",
   "name": "python",
   "nbconvert_exporter": "python",
   "pygments_lexer": "ipython3",
   "version": "3.7.4"
  }
 },
 "nbformat": 4,
 "nbformat_minor": 2
}
