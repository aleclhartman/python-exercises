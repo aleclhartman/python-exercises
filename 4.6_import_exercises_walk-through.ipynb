{
 "cells": [
  {
   "cell_type": "code",
   "execution_count": 5,
   "metadata": {},
   "outputs": [],
   "source": [
    "import json\n",
    "from pprint import pprint"
   ]
  },
  {
   "cell_type": "code",
   "execution_count": 78,
   "metadata": {},
   "outputs": [],
   "source": [
    "profiles = json.load(open(\"profiles.json\"))"
   ]
  },
  {
   "cell_type": "code",
   "execution_count": 79,
   "metadata": {},
   "outputs": [
    {
     "name": "stdout",
     "output_type": "stream",
     "text": [
      "[{'_id': '54e23c3e46ab53a440b580e8',\n",
      "  'about': 'Sit cillum deserunt irure laboris tempor fugiat laboris. Amet '\n",
      "           'commodo amet est incididunt. Dolore qui fugiat cillum pariatur '\n",
      "           'dolore excepteur elit ipsum.\\r\\n',\n",
      "  'address': '121 Emmons Avenue, Klondike, Kentucky, 5975',\n",
      "  'age': 39,\n",
      "  'balance': '$2,097.02',\n",
      "  'company': 'ANDRYX',\n",
      "  'email': 'hebertestes@andryx.com',\n",
      "  'eyeColor': 'blue',\n",
      "  'favoriteFruit': 'strawberry',\n",
      "  'friends': [{'id': 0, 'name': 'Tanisha Leonard'},\n",
      "              {'id': 1, 'name': 'Dennis Wilson'},\n",
      "              {'id': 2, 'name': 'Lupe Howe'}],\n",
      "  'gender': 'male',\n",
      "  'greeting': 'Hello, Hebert Estes! You have 4 unread messages.',\n",
      "  'guid': '9962b468-ef3e-4993-b677-617469bc3008',\n",
      "  'index': 0,\n",
      "  'isActive': False,\n",
      "  'latitude': -80.157843,\n",
      "  'longitude': 161.93016,\n",
      "  'name': 'Hebert Estes',\n",
      "  'phone': '+1 (866) 456-2268',\n",
      "  'picture': 'http://placehold.it/32x32',\n",
      "  'registered': '2014-11-10T01:44:03 +06:00',\n",
      "  'tags': ['sit', 'occaecat', 'non', 'ea', 'sit', 'laboris', 'exercitation']},\n",
      " {'_id': '54e23c3ef5cc0d250968c212',\n",
      "  'about': 'Esse quis cillum sunt occaecat ad et eu incididunt aliquip dolor. '\n",
      "           'Adipisicing labore magna anim cillum nisi. Elit mollit consequat '\n",
      "           'velit nulla cillum excepteur elit ullamco deserunt. Anim aliquip '\n",
      "           'Lorem excepteur ad veniam et labore in qui ullamco. Occaecat sit '\n",
      "           'do incididunt voluptate id magna ea amet.\\r\\n',\n",
      "  'address': '724 Brevoort Place, Lodoga, Indiana, 3880',\n",
      "  'age': 30,\n",
      "  'balance': '$3,654.02',\n",
      "  'company': 'PHARMACON',\n",
      "  'email': 'allisonwynn@pharmacon.com',\n",
      "  'eyeColor': 'green',\n",
      "  'favoriteFruit': 'apple',\n",
      "  'friends': [{'id': 0, 'name': 'Curry Cox'},\n",
      "              {'id': 1, 'name': 'Alma Dale'},\n",
      "              {'id': 2, 'name': 'Barbara Mayo'}],\n",
      "  'gender': 'male',\n",
      "  'greeting': 'Hello, Allison Wynn! You have 19 unread messages.',\n",
      "  'guid': '905f849d-49bf-4a57-b4f3-5d6e4bf1b04c',\n",
      "  'index': 1,\n",
      "  'isActive': False,\n",
      "  'latitude': 55.737207,\n",
      "  'longitude': -167.177561,\n",
      "  'name': 'Allison Wynn',\n",
      "  'phone': '+1 (926) 525-3131',\n",
      "  'picture': 'http://placehold.it/32x32',\n",
      "  'registered': '2014-06-10T13:41:26 +05:00',\n",
      "  'tags': ['enim',\n",
      "           'officia',\n",
      "           'laboris',\n",
      "           'irure',\n",
      "           'veniam',\n",
      "           'occaecat',\n",
      "           'pariatur']},\n",
      " {'_id': '54e23c3e09cc6875638cd36b',\n",
      "  'about': 'Deserunt adipisicing proident exercitation cillum anim consectetur '\n",
      "           'labore exercitation. Commodo reprehenderit laborum enim '\n",
      "           'exercitation. Ullamco nulla culpa aliqua nisi fugiat consectetur '\n",
      "           'deserunt nostrud in eu.\\r\\n',\n",
      "  'address': '941 Cox Place, Bluffview, Georgia, 5882',\n",
      "  'age': 31,\n",
      "  'balance': '$1,536.02',\n",
      "  'company': 'QUONK',\n",
      "  'email': 'jacobsfloyd@quonk.com',\n",
      "  'eyeColor': 'brown',\n",
      "  'favoriteFruit': 'banana',\n",
      "  'friends': [{'id': 0, 'name': 'Robles Chan'},\n",
      "              {'id': 1, 'name': 'Whitfield Strickland'},\n",
      "              {'id': 2, 'name': 'Lina Melton'}],\n",
      "  'gender': 'male',\n",
      "  'greeting': 'Hello, Jacobs Floyd! You have 5 unread messages.',\n",
      "  'guid': '1b042d48-9cfa-4db5-8b60-4104165591c3',\n",
      "  'index': 2,\n",
      "  'isActive': True,\n",
      "  'latitude': 30.215667,\n",
      "  'longitude': 68.831905,\n",
      "  'name': 'Jacobs Floyd',\n",
      "  'phone': '+1 (853) 537-3315',\n",
      "  'picture': 'http://placehold.it/32x32',\n",
      "  'registered': '2014-07-30T03:17:32 +05:00',\n",
      "  'tags': ['est', 'aute', 'laborum', 'sint', 'anim', 'sit', 'consectetur']},\n",
      " {'_id': '54e23c3e54e4094147a3b1da',\n",
      "  'about': 'Aliqua sunt exercitation quis cupidatat fugiat nulla laboris '\n",
      "           'occaecat ut reprehenderit qui incididunt. Amet excepteur qui amet '\n",
      "           'mollit sint enim velit est dolor eu. Velit labore ea aute ipsum '\n",
      "           'consequat culpa cupidatat excepteur aliqua. Sit commodo id est '\n",
      "           'deserunt commodo. Labore sit deserunt enim in dolore incididunt. '\n",
      "           'Officia qui est veniam cillum consequat minim duis Lorem esse '\n",
      "           'magna culpa cupidatat cupidatat enim. Amet eiusmod elit qui '\n",
      "           'reprehenderit commodo quis.\\r\\n',\n",
      "  'address': '518 Randolph Street, Whitestone, Arizona, 8189',\n",
      "  'age': 20,\n",
      "  'balance': '$3,919.64',\n",
      "  'company': 'INRT',\n",
      "  'email': 'fayhammond@inrt.com',\n",
      "  'eyeColor': 'green',\n",
      "  'favoriteFruit': 'banana',\n",
      "  'friends': [{'id': 0, 'name': 'Dudley Booker'},\n",
      "              {'id': 1, 'name': 'Esmeralda Tyler'},\n",
      "              {'id': 2, 'name': 'Rosa Hampton'}],\n",
      "  'gender': 'female',\n",
      "  'greeting': 'Hello, Fay Hammond! You have 10 unread messages.',\n",
      "  'guid': '69eb3454-8acc-46f1-a636-c6df00dfb542',\n",
      "  'index': 3,\n",
      "  'isActive': False,\n",
      "  'latitude': 33.825844,\n",
      "  'longitude': -65.969538,\n",
      "  'name': 'Fay Hammond',\n",
      "  'phone': '+1 (922) 429-2592',\n",
      "  'picture': 'http://placehold.it/32x32',\n",
      "  'registered': '2015-01-30T08:05:38 +06:00',\n",
      "  'tags': ['aliqua', 'esse', 'sint', 'pariatur', 'commodo', 'do', 'anim']},\n",
      " {'_id': '54e23c3e177caf5567ba87ac',\n",
      "  'about': 'Irure excepteur consequat esse qui tempor deserunt nulla fugiat. '\n",
      "           'Ut excepteur do veniam dolore dolor proident sunt voluptate ad '\n",
      "           'ipsum nisi. Lorem proident deserunt Lorem cupidatat dolor nulla '\n",
      "           'qui id aliqua. Et nulla laborum deserunt tempor ad culpa. Ullamco '\n",
      "           'occaecat adipisicing dolore laborum laborum duis aliqua nisi irure '\n",
      "           'ex. Incididunt tempor Lorem quis dolore.\\r\\n',\n",
      "  'address': '604 Just Court, Eastvale, Federated States Of Micronesia, 8644',\n",
      "  'age': 39,\n",
      "  'balance': '$3,681.39',\n",
      "  'company': 'WAZZU',\n",
      "  'email': 'chasitymarsh@wazzu.com',\n",
      "  'eyeColor': 'green',\n",
      "  'favoriteFruit': 'apple',\n",
      "  'friends': [{'id': 0, 'name': 'Kristina Glover'},\n",
      "              {'id': 1, 'name': 'Ora Christian'},\n",
      "              {'id': 2, 'name': 'Jacklyn Joseph'}],\n",
      "  'gender': 'female',\n",
      "  'greeting': 'Hello, Chasity Marsh! You have 9 unread messages.',\n",
      "  'guid': '97962c85-7700-4ffa-a01e-2fcbc147fd81',\n",
      "  'index': 4,\n",
      "  'isActive': False,\n",
      "  'latitude': -31.660978,\n",
      "  'longitude': 37.559095,\n",
      "  'name': 'Chasity Marsh',\n",
      "  'phone': '+1 (976) 425-2362',\n",
      "  'picture': 'http://placehold.it/32x32',\n",
      "  'registered': '2014-07-31T06:03:19 +05:00',\n",
      "  'tags': ['aliquip', 'duis', 'irure', 'amet', 'aliquip', 'dolore', 'esse']},\n",
      " {'_id': '54e23c3eaffbb506aa15ec1c',\n",
      "  'about': 'Qui ad commodo elit voluptate cupidatat exercitation amet ea '\n",
      "           'laborum sunt aliquip nisi irure. Veniam voluptate eiusmod sint '\n",
      "           'aliquip ea. Voluptate voluptate Lorem nulla laborum eiusmod '\n",
      "           'occaecat et nostrud sint in cillum reprehenderit magna nulla. '\n",
      "           'Lorem id fugiat laborum qui mollit amet. Culpa officia ipsum nisi '\n",
      "           'culpa in. Fugiat quis eu cupidatat non culpa in ea velit pariatur '\n",
      "           'non in excepteur.\\r\\n',\n",
      "  'address': '101 Haring Street, Nicut, Louisiana, 1473',\n",
      "  'age': 30,\n",
      "  'balance': '$1,694.42',\n",
      "  'company': 'EARTHWAX',\n",
      "  'email': 'camachocortez@earthwax.com',\n",
      "  'eyeColor': 'brown',\n",
      "  'favoriteFruit': 'apple',\n",
      "  'friends': [{'id': 0, 'name': 'Sexton Tillman'},\n",
      "              {'id': 1, 'name': 'Boone Steele'},\n",
      "              {'id': 2, 'name': 'Elvia Ward'}],\n",
      "  'gender': 'male',\n",
      "  'greeting': 'Hello, Camacho Cortez! You have 19 unread messages.',\n",
      "  'guid': 'fc3e04d1-44c2-449e-891a-d4f8053d14a4',\n",
      "  'index': 5,\n",
      "  'isActive': True,\n",
      "  'latitude': 74.434627,\n",
      "  'longitude': 69.527088,\n",
      "  'name': 'Camacho Cortez',\n",
      "  'phone': '+1 (869) 528-2019',\n",
      "  'picture': 'http://placehold.it/32x32',\n",
      "  'registered': '2014-03-17T12:04:00 +05:00',\n",
      "  'tags': ['et', 'sit', 'in', 'id', 'ullamco', 'elit', 'laborum']},\n",
      " {'_id': '54e23c3e0fd8074c2ca52667',\n",
      "  'about': 'Minim consequat anim ad et tempor et pariatur cillum ut. Ea Lorem '\n",
      "           'consectetur sunt aliquip ea minim minim id dolore incididunt qui '\n",
      "           'magna. Magna velit labore dolore voluptate ut aliquip esse qui est '\n",
      "           'ipsum cupidatat duis enim. Sunt esse eiusmod cupidatat duis quis '\n",
      "           'sunt anim dolore adipisicing enim dolore aliqua mollit. Commodo '\n",
      "           'sit ad eiusmod reprehenderit.\\r\\n',\n",
      "  'address': '569 Oakland Place, Beyerville, Puerto Rico, 2395',\n",
      "  'age': 35,\n",
      "  'balance': '$1,214.10',\n",
      "  'company': 'TERSANKI',\n",
      "  'email': 'averyflynn@tersanki.com',\n",
      "  'eyeColor': 'green',\n",
      "  'favoriteFruit': 'banana',\n",
      "  'friends': [{'id': 0, 'name': 'Ball Henson'},\n",
      "              {'id': 1, 'name': 'Dalton Mccoy'},\n",
      "              {'id': 2, 'name': 'Carolina Sharp'}],\n",
      "  'gender': 'male',\n",
      "  'greeting': 'Hello, Avery Flynn! You have 13 unread messages.',\n",
      "  'guid': 'af8d9a03-fde9-4039-b20c-c4708d4cfc3c',\n",
      "  'index': 6,\n",
      "  'isActive': False,\n",
      "  'latitude': -89.879409,\n",
      "  'longitude': 143.441709,\n",
      "  'name': 'Avery Flynn',\n",
      "  'phone': '+1 (966) 404-2471',\n",
      "  'picture': 'http://placehold.it/32x32',\n",
      "  'registered': '2014-04-13T10:25:03 +05:00',\n",
      "  'tags': ['quis',\n",
      "           'esse',\n",
      "           'Lorem',\n",
      "           'minim',\n",
      "           'nostrud',\n",
      "           'voluptate',\n",
      "           'laborum']},\n",
      " {'_id': '54e23c3eb112d96e4204914d',\n",
      "  'about': 'Minim proident minim consectetur nostrud dolor reprehenderit. Ea '\n",
      "           'est proident non do cillum eu est dolor Lorem id. Tempor enim '\n",
      "           'incididunt consequat voluptate nulla ipsum voluptate id. '\n",
      "           'Incididunt enim laboris nostrud in exercitation est culpa nulla '\n",
      "           'velit.\\r\\n',\n",
      "  'address': '808 Duryea Court, Downsville, Northern Mariana Islands, 2154',\n",
      "  'age': 23,\n",
      "  'balance': '$2,930.31',\n",
      "  'company': 'ORBIXTAR',\n",
      "  'email': 'michaelcash@orbixtar.com',\n",
      "  'eyeColor': 'blue',\n",
      "  'favoriteFruit': 'strawberry',\n",
      "  'friends': [{'id': 0, 'name': 'Rodgers Nolan'},\n",
      "              {'id': 1, 'name': 'Jewel Marks'},\n",
      "              {'id': 2, 'name': 'Sue Mejia'}],\n",
      "  'gender': 'male',\n",
      "  'greeting': 'Hello, Michael Cash! You have 17 unread messages.',\n",
      "  'guid': '95f1c020-f9eb-4a29-b236-e766759d89d0',\n",
      "  'index': 7,\n",
      "  'isActive': False,\n",
      "  'latitude': -86.621367,\n",
      "  'longitude': -4.06197,\n",
      "  'name': 'Michael Cash',\n",
      "  'phone': '+1 (996) 439-3660',\n",
      "  'picture': 'http://placehold.it/32x32',\n",
      "  'registered': '2014-05-24T17:56:54 +05:00',\n",
      "  'tags': ['eu', 'sit', 'dolore', 'culpa', 'Lorem', 'in', 'esse']},\n",
      " {'_id': '54e23c3ef30f14d0e5afddf3',\n",
      "  'about': 'Ullamco ea esse ullamco commodo quis amet ut ad. Sint eiusmod '\n",
      "           'ullamco minim nostrud amet in ex adipisicing velit cillum Lorem '\n",
      "           'enim nostrud. Deserunt esse incididunt eiusmod commodo ullamco id '\n",
      "           'pariatur tempor duis laboris Lorem. Laboris magna Lorem quis '\n",
      "           'laborum ullamco. Dolor minim magna ut occaecat in consequat '\n",
      "           'consequat in commodo pariatur voluptate pariatur dolore. Quis '\n",
      "           'exercitation cillum labore cillum laborum. Dolore est '\n",
      "           'reprehenderit anim reprehenderit consectetur sit quis ea ut '\n",
      "           'veniam.\\r\\n',\n",
      "  'address': '684 Stratford Road, Rosine, District Of Columbia, 7177',\n",
      "  'age': 25,\n",
      "  'balance': '$1,944.15',\n",
      "  'company': 'KIDSTOCK',\n",
      "  'email': 'madeleinebray@kidstock.com',\n",
      "  'eyeColor': 'green',\n",
      "  'favoriteFruit': 'strawberry',\n",
      "  'friends': [{'id': 0, 'name': 'Herrera Doyle'},\n",
      "              {'id': 1, 'name': 'Berger Fisher'},\n",
      "              {'id': 2, 'name': 'Chang Coffey'}],\n",
      "  'gender': 'female',\n",
      "  'greeting': 'Hello, Madeleine Bray! You have 2 unread messages.',\n",
      "  'guid': 'bde2d56f-2488-40d0-a7d2-21019ee8a18b',\n",
      "  'index': 8,\n",
      "  'isActive': False,\n",
      "  'latitude': 45.118798,\n",
      "  'longitude': -7.698707,\n",
      "  'name': 'Madeleine Bray',\n",
      "  'phone': '+1 (820) 541-2969',\n",
      "  'picture': 'http://placehold.it/32x32',\n",
      "  'registered': '2014-08-11T08:54:06 +05:00',\n",
      "  'tags': ['id',\n",
      "           'magna',\n",
      "           'excepteur',\n",
      "           'excepteur',\n",
      "           'excepteur',\n",
      "           'duis',\n",
      "           'excepteur']},\n",
      " {'_id': '54e23c3ebd80e9c26b057fa3',\n",
      "  'about': 'Sint cillum laborum labore duis fugiat voluptate adipisicing. Ad '\n",
      "           'culpa et et ea incididunt nulla excepteur officia. Cillum veniam '\n",
      "           'amet ipsum reprehenderit do eiusmod aliqua aute nisi Lorem '\n",
      "           'consectetur esse in incididunt.\\r\\n',\n",
      "  'address': '964 Clara Street, Snyderville, Oklahoma, 3627',\n",
      "  'age': 37,\n",
      "  'balance': '$2,839.22',\n",
      "  'company': 'INTRAWEAR',\n",
      "  'email': 'corinefrench@intrawear.com',\n",
      "  'eyeColor': 'blue',\n",
      "  'favoriteFruit': 'banana',\n",
      "  'friends': [{'id': 0, 'name': 'Greta Hill'},\n",
      "              {'id': 1, 'name': 'Cline Curry'},\n",
      "              {'id': 2, 'name': 'Branch Sawyer'}],\n",
      "  'gender': 'female',\n",
      "  'greeting': 'Hello, Corine French! You have 18 unread messages.',\n",
      "  'guid': '75991ca5-05ed-499e-bbb5-f057f86d05d7',\n",
      "  'index': 9,\n",
      "  'isActive': True,\n",
      "  'latitude': -37.637422,\n",
      "  'longitude': 154.195523,\n",
      "  'name': 'Corine French',\n",
      "  'phone': '+1 (987) 573-3164',\n",
      "  'picture': 'http://placehold.it/32x32',\n",
      "  'registered': '2014-06-25T20:17:13 +05:00',\n",
      "  'tags': ['laboris',\n",
      "           'in',\n",
      "           'dolore',\n",
      "           'mollit',\n",
      "           'velit',\n",
      "           'laboris',\n",
      "           'excepteur']},\n",
      " {'_id': '54e23c3e6d89c09f5507e7dd',\n",
      "  'about': 'Non id adipisicing deserunt non magna ex adipisicing sint esse '\n",
      "           'sint. Laborum ea nostrud Lorem voluptate quis proident eu nisi '\n",
      "           'exercitation in. Consequat occaecat proident officia anim.\\r\\n',\n",
      "  'address': '558 Charles Place, Tedrow, California, 9832',\n",
      "  'age': 29,\n",
      "  'balance': '$2,467.31',\n",
      "  'company': 'SPLINX',\n",
      "  'email': 'trudycummings@splinx.com',\n",
      "  'eyeColor': 'blue',\n",
      "  'favoriteFruit': 'strawberry',\n",
      "  'friends': [{'id': 0, 'name': 'Amber Gates'},\n",
      "              {'id': 1, 'name': 'Barron Walsh'},\n",
      "              {'id': 2, 'name': 'Nell Bolton'}],\n",
      "  'gender': 'female',\n",
      "  'greeting': 'Hello, Trudy Cummings! You have 2 unread messages.',\n",
      "  'guid': '87cffc18-3acf-40c5-8708-1bb93f1b68de',\n",
      "  'index': 10,\n",
      "  'isActive': True,\n",
      "  'latitude': -36.185131,\n",
      "  'longitude': -37.774906,\n",
      "  'name': 'Trudy Cummings',\n",
      "  'phone': '+1 (925) 403-2797',\n",
      "  'picture': 'http://placehold.it/32x32',\n",
      "  'registered': '2014-03-13T17:54:31 +05:00',\n",
      "  'tags': ['aute', 'occaecat', 'ea', 'pariatur', 'consectetur', 'magna', 'ea']},\n",
      " {'_id': '54e23c3e4192cf53edd67c99',\n",
      "  'about': 'Aliqua sit enim cillum aliquip ad proident excepteur in '\n",
      "           'consectetur eiusmod. Ipsum sint cillum veniam eiusmod aute sunt et '\n",
      "           'do est tempor. Lorem elit dolor dolore incididunt cillum. Enim '\n",
      "           'occaecat minim sunt cillum est velit cillum deserunt tempor '\n",
      "           'eu.\\r\\n',\n",
      "  'address': '830 Willmohr Street, Crenshaw, Missouri, 6032',\n",
      "  'age': 21,\n",
      "  'balance': '$3,304.99',\n",
      "  'company': 'ACCUPRINT',\n",
      "  'email': 'peggymayer@accuprint.com',\n",
      "  'eyeColor': 'brown',\n",
      "  'favoriteFruit': 'strawberry',\n",
      "  'friends': [{'id': 0, 'name': 'Hopkins Mccall'},\n",
      "              {'id': 1, 'name': 'Nielsen Weeks'},\n",
      "              {'id': 2, 'name': 'Dale Knowles'}],\n",
      "  'gender': 'female',\n",
      "  'greeting': 'Hello, Peggy Mayer! You have 13 unread messages.',\n",
      "  'guid': '5a5496f1-a027-4c21-85da-c399234cd9a5',\n",
      "  'index': 11,\n",
      "  'isActive': True,\n",
      "  'latitude': 48.323912,\n",
      "  'longitude': 22.184821,\n",
      "  'name': 'Peggy Mayer',\n",
      "  'phone': '+1 (854) 428-2585',\n",
      "  'picture': 'http://placehold.it/32x32',\n",
      "  'registered': '2014-09-14T07:06:49 +05:00',\n",
      "  'tags': ['commodo', 'esse', 'ad', 'ullamco', 'ea', 'sint', 'ipsum']},\n",
      " {'_id': '54e23c3eedcc65f0ec3a5496',\n",
      "  'about': 'Voluptate exercitation ut anim ex adipisicing ut do officia '\n",
      "           'incididunt fugiat cupidatat aliqua. Cillum ullamco irure dolore '\n",
      "           'est consectetur non consequat. Nulla ullamco eu irure qui dolor '\n",
      "           'magna ipsum id in enim voluptate aute. Officia aliqua dolore ut '\n",
      "           'reprehenderit Lorem cillum. Cillum reprehenderit eu cillum aliqua '\n",
      "           'sint eiusmod cupidatat culpa elit in. Fugiat voluptate '\n",
      "           'reprehenderit amet anim qui nisi velit aliqua proident anim.\\r\\n',\n",
      "  'address': '915 Channel Avenue, Clinton, North Dakota, 6244',\n",
      "  'age': 40,\n",
      "  'balance': '$3,844.42',\n",
      "  'company': 'ZEAM',\n",
      "  'email': 'chanhurley@zeam.com',\n",
      "  'eyeColor': 'brown',\n",
      "  'favoriteFruit': 'apple',\n",
      "  'friends': [{'id': 0, 'name': 'Reese Grant'},\n",
      "              {'id': 1, 'name': 'Jenna Kinney'},\n",
      "              {'id': 2, 'name': 'Rhea May'}],\n",
      "  'gender': 'male',\n",
      "  'greeting': 'Hello, Chan Hurley! You have 7 unread messages.',\n",
      "  'guid': '759a21c4-5f9c-4189-9c50-c9d8a9f31037',\n",
      "  'index': 12,\n",
      "  'isActive': False,\n",
      "  'latitude': 85.901051,\n",
      "  'longitude': -74.986179,\n",
      "  'name': 'Chan Hurley',\n",
      "  'phone': '+1 (917) 475-3705',\n",
      "  'picture': 'http://placehold.it/32x32',\n",
      "  'registered': '2014-03-01T14:51:23 +06:00',\n",
      "  'tags': ['minim', 'veniam', 'sit', 'aute', 'irure', 'non', 'eiusmod']},\n",
      " {'_id': '54e23c3eb813e66c6d33aa82',\n",
      "  'about': 'Enim elit amet officia consectetur do Lorem reprehenderit '\n",
      "           'cupidatat exercitation velit. Ex tempor esse consectetur dolore '\n",
      "           'aute et. Cupidatat duis nulla in incididunt nulla ullamco non '\n",
      "           'magna officia commodo anim. Labore quis ullamco est deserunt '\n",
      "           'excepteur duis nostrud deserunt cillum proident. Non eiusmod '\n",
      "           'consectetur pariatur deserunt irure quis exercitation ex '\n",
      "           'incididunt quis dolore pariatur sunt irure. Eu do fugiat laboris '\n",
      "           'tempor culpa.\\r\\n',\n",
      "  'address': '184 Kingsway Place, Grantville, Michigan, 2421',\n",
      "  'age': 40,\n",
      "  'balance': '$3,594.99',\n",
      "  'company': 'SUREPLEX',\n",
      "  'email': 'diazpena@sureplex.com',\n",
      "  'eyeColor': 'blue',\n",
      "  'favoriteFruit': 'strawberry',\n",
      "  'friends': [{'id': 0, 'name': 'Mcmillan Knox'},\n",
      "              {'id': 1, 'name': 'Flossie Dixon'},\n",
      "              {'id': 2, 'name': 'Sears Carson'}],\n",
      "  'gender': 'male',\n",
      "  'greeting': 'Hello, Diaz Pena! You have 13 unread messages.',\n",
      "  'guid': '6fd14a8e-3158-48eb-a7e1-93fe57b74746',\n",
      "  'index': 13,\n",
      "  'isActive': True,\n",
      "  'latitude': 6.606991,\n",
      "  'longitude': 81.593748,\n",
      "  'name': 'Diaz Pena',\n",
      "  'phone': '+1 (986) 511-3050',\n",
      "  'picture': 'http://placehold.it/32x32',\n",
      "  'registered': '2014-04-19T20:43:12 +05:00',\n",
      "  'tags': ['excepteur',\n",
      "           'elit',\n",
      "           'ullamco',\n",
      "           'excepteur',\n",
      "           'ad',\n",
      "           'quis',\n",
      "           'dolore']},\n",
      " {'_id': '54e23c3e502a2f526b689c3e',\n",
      "  'about': 'Consectetur mollit cupidatat ex consectetur eiusmod ut. Cupidatat '\n",
      "           'anim cupidatat cupidatat minim ipsum et quis amet proident '\n",
      "           'pariatur. Do consectetur fugiat quis nisi non. Ut eu consequat '\n",
      "           'consequat in ullamco eiusmod quis cillum sunt dolore anim. Non '\n",
      "           'irure aliqua aliqua enim elit labore consequat.\\r\\n',\n",
      "  'address': '278 Village Road, Sunnyside, Massachusetts, 7496',\n",
      "  'age': 40,\n",
      "  'balance': '$2,940.24',\n",
      "  'company': 'NETPLODE',\n",
      "  'email': 'heathcastaneda@netplode.com',\n",
      "  'eyeColor': 'brown',\n",
      "  'favoriteFruit': 'strawberry',\n",
      "  'friends': [{'id': 0, 'name': 'Dora Mack'},\n",
      "              {'id': 1, 'name': 'Christensen Camacho'},\n",
      "              {'id': 2, 'name': 'Castro Kelly'}],\n",
      "  'gender': 'male',\n",
      "  'greeting': 'Hello, Heath Castaneda! You have 12 unread messages.',\n",
      "  'guid': '459cc82d-7878-42cb-b9c6-073506380036',\n",
      "  'index': 14,\n",
      "  'isActive': True,\n",
      "  'latitude': 69.928876,\n",
      "  'longitude': 33.649878,\n",
      "  'name': 'Heath Castaneda',\n",
      "  'phone': '+1 (944) 478-3741',\n",
      "  'picture': 'http://placehold.it/32x32',\n",
      "  'registered': '2014-07-30T21:38:43 +05:00',\n",
      "  'tags': ['elit', 'commodo', 'ut', 'ullamco', 'ullamco', 'velit', 'ullamco']},\n",
      " {'_id': '54e23c3e69d22e49c7fe62de',\n",
      "  'about': 'Non in excepteur nostrud consectetur. Qui non consectetur officia '\n",
      "           'incididunt elit laboris exercitation exercitation est minim veniam '\n",
      "           'ullamco dolore. Eu sit aute culpa ex sunt amet. Ut et amet Lorem '\n",
      "           'sunt anim pariatur.\\r\\n',\n",
      "  'address': '557 Ingraham Street, Brambleton, South Dakota, 8482',\n",
      "  'age': 38,\n",
      "  'balance': '$3,062.41',\n",
      "  'company': 'QUALITERN',\n",
      "  'email': 'greerblankenship@qualitern.com',\n",
      "  'eyeColor': 'brown',\n",
      "  'favoriteFruit': 'banana',\n",
      "  'friends': [{'id': 0, 'name': 'Woods Norman'},\n",
      "              {'id': 1, 'name': 'Marilyn Haney'},\n",
      "              {'id': 2, 'name': 'Webster Nielsen'}],\n",
      "  'gender': 'male',\n",
      "  'greeting': 'Hello, Greer Blankenship! You have 7 unread messages.',\n",
      "  'guid': '33d2bbe5-d6f7-4844-88fc-b9f6af63b373',\n",
      "  'index': 15,\n",
      "  'isActive': False,\n",
      "  'latitude': -71.093388,\n",
      "  'longitude': 65.740255,\n",
      "  'name': 'Greer Blankenship',\n",
      "  'phone': '+1 (957) 482-3874',\n",
      "  'picture': 'http://placehold.it/32x32',\n",
      "  'registered': '2014-03-30T21:39:41 +05:00',\n",
      "  'tags': ['enim',\n",
      "           'eiusmod',\n",
      "           'Lorem',\n",
      "           'reprehenderit',\n",
      "           'nisi',\n",
      "           'anim',\n",
      "           'sunt']},\n",
      " {'_id': '54e23c3e42676228c442a669',\n",
      "  'about': 'Est esse irure Lorem ullamco veniam fugiat laborum veniam '\n",
      "           'excepteur. Ad enim pariatur nostrud excepteur et nostrud velit '\n",
      "           'dolore ex enim cillum in aliquip fugiat. Nulla laborum '\n",
      "           'exercitation irure magna elit laborum magna ad excepteur. Cillum '\n",
      "           'pariatur Lorem eiusmod ad dolore eiusmod veniam do minim laborum '\n",
      "           'in dolor. Reprehenderit elit ad id voluptate Lorem Lorem dolor '\n",
      "           'cupidatat excepteur. Proident minim ea aute nulla.\\r\\n',\n",
      "  'address': '490 Durland Place, Craig, Tennessee, 5034',\n",
      "  'age': 32,\n",
      "  'balance': '$3,067.82',\n",
      "  'company': 'INQUALA',\n",
      "  'email': 'coffeyhayes@inquala.com',\n",
      "  'eyeColor': 'green',\n",
      "  'favoriteFruit': 'strawberry',\n",
      "  'friends': [{'id': 0, 'name': 'Suarez Perry'},\n",
      "              {'id': 1, 'name': 'Marlene Sheppard'},\n",
      "              {'id': 2, 'name': 'Cohen Yates'}],\n",
      "  'gender': 'male',\n",
      "  'greeting': 'Hello, Coffey Hayes! You have 19 unread messages.',\n",
      "  'guid': 'e44604f0-c7a8-4b89-bda3-0f4710ebe28a',\n",
      "  'index': 16,\n",
      "  'isActive': False,\n",
      "  'latitude': -30.662644,\n",
      "  'longitude': 59.806684,\n",
      "  'name': 'Coffey Hayes',\n",
      "  'phone': '+1 (880) 451-3490',\n",
      "  'picture': 'http://placehold.it/32x32',\n",
      "  'registered': '2014-04-01T23:04:39 +05:00',\n",
      "  'tags': ['duis', 'est', 'in', 'officia', 'nostrud', 'occaecat', 'mollit']},\n",
      " {'_id': '54e23c3e4ac5969958013235',\n",
      "  'about': 'Dolor occaecat dolore ut tempor. Veniam elit anim duis do '\n",
      "           'pariatur. Qui excepteur nisi eiusmod mollit laboris fugiat commodo '\n",
      "           'ipsum reprehenderit labore cillum. Aliquip laborum commodo nisi '\n",
      "           'cupidatat labore nostrud exercitation adipisicing mollit eu magna '\n",
      "           'proident ex Lorem. Nostrud magna sint sint consequat consectetur '\n",
      "           'et sint.\\r\\n',\n",
      "  'address': '196 Columbus Place, Carbonville, New Jersey, 7513',\n",
      "  'age': 24,\n",
      "  'balance': '$2,646.76',\n",
      "  'company': 'ACCIDENCY',\n",
      "  'email': 'leannehurst@accidency.com',\n",
      "  'eyeColor': 'brown',\n",
      "  'favoriteFruit': 'banana',\n",
      "  'friends': [{'id': 0, 'name': 'Farley Frank'},\n",
      "              {'id': 1, 'name': 'Pruitt Frye'},\n",
      "              {'id': 2, 'name': 'Simpson Cardenas'}],\n",
      "  'gender': 'female',\n",
      "  'greeting': 'Hello, Leanne Hurst! You have 5 unread messages.',\n",
      "  'guid': 'fa7e26df-d239-41e8-9aa9-be5e808b6f89',\n",
      "  'index': 17,\n",
      "  'isActive': True,\n",
      "  'latitude': 16.671695,\n",
      "  'longitude': 139.707959,\n",
      "  'name': 'Leanne Hurst',\n",
      "  'phone': '+1 (820) 420-3317',\n",
      "  'picture': 'http://placehold.it/32x32',\n",
      "  'registered': '2014-11-10T01:25:55 +06:00',\n",
      "  'tags': ['culpa',\n",
      "           'deserunt',\n",
      "           'tempor',\n",
      "           'quis',\n",
      "           'reprehenderit',\n",
      "           'incididunt',\n",
      "           'est']},\n",
      " {'_id': '54e23c3ed945981ba2580614',\n",
      "  'about': 'Veniam eiusmod exercitation culpa mollit reprehenderit ullamco '\n",
      "           'voluptate voluptate irure qui duis anim et. Laborum dolor quis do '\n",
      "           'voluptate. In pariatur dolor id mollit et enim. Qui ex qui in '\n",
      "           'cillum irure enim non reprehenderit irure et excepteur aliquip eu '\n",
      "           'eu.\\r\\n',\n",
      "  'address': '136 Beard Street, Wattsville, New Hampshire, 2803',\n",
      "  'age': 22,\n",
      "  'balance': '$2,227.79',\n",
      "  'company': 'ESCENTA',\n",
      "  'email': 'ewinglarson@escenta.com',\n",
      "  'eyeColor': 'brown',\n",
      "  'favoriteFruit': 'strawberry',\n",
      "  'friends': [{'id': 0, 'name': 'Suzette Huffman'},\n",
      "              {'id': 1, 'name': 'Paige Santiago'},\n",
      "              {'id': 2, 'name': 'Dollie Fernandez'}],\n",
      "  'gender': 'male',\n",
      "  'greeting': 'Hello, Ewing Larson! You have 16 unread messages.',\n",
      "  'guid': 'e608dc5c-fee4-4086-971b-3ebd37bfa137',\n",
      "  'index': 18,\n",
      "  'isActive': True,\n",
      "  'latitude': 15.903555,\n",
      "  'longitude': -159.721203,\n",
      "  'name': 'Ewing Larson',\n",
      "  'phone': '+1 (943) 439-3760',\n",
      "  'picture': 'http://placehold.it/32x32',\n",
      "  'registered': '2014-07-21T19:17:41 +05:00',\n",
      "  'tags': ['Lorem',\n",
      "           'magna',\n",
      "           'dolor',\n",
      "           'aliquip',\n",
      "           'reprehenderit',\n",
      "           'eu',\n",
      "           'voluptate']}]\n"
     ]
    }
   ],
   "source": [
    "pprint(profiles)"
   ]
  },
  {
   "cell_type": "code",
   "execution_count": 9,
   "metadata": {},
   "outputs": [
    {
     "data": {
      "text/plain": [
       "19"
      ]
     },
     "execution_count": 9,
     "metadata": {},
     "output_type": "execute_result"
    }
   ],
   "source": [
    "# Total number of users\n",
    "len(profiles)"
   ]
  },
  {
   "cell_type": "code",
   "execution_count": 12,
   "metadata": {},
   "outputs": [
    {
     "data": {
      "text/plain": [
       "' No need to specify if profile[\"isActive\"] == True'"
      ]
     },
     "execution_count": 12,
     "metadata": {},
     "output_type": "execute_result"
    }
   ],
   "source": [
    "# Number of active users\n",
    "len([profile for profile in profiles if profile[\"isActive\"]])\n",
    "# No need to specify \"if profile[\"isActive\"] == True\""
   ]
  },
  {
   "cell_type": "code",
   "execution_count": 13,
   "metadata": {},
   "outputs": [
    {
     "data": {
      "text/plain": [
       "10"
      ]
     },
     "execution_count": 13,
     "metadata": {},
     "output_type": "execute_result"
    }
   ],
   "source": [
    "# Number of inactive users\n",
    "len([profile for profile in profiles if not profile[\"isActive\"]])"
   ]
  },
  {
   "cell_type": "markdown",
   "metadata": {},
   "source": [
    "The list comprehension filtering only work above because the isActive field is a boolean"
   ]
  },
  {
   "cell_type": "code",
   "execution_count": 14,
   "metadata": {},
   "outputs": [
    {
     "data": {
      "text/plain": [
       "['$2,097.02',\n",
       " '$3,654.02',\n",
       " '$1,536.02',\n",
       " '$3,919.64',\n",
       " '$3,681.39',\n",
       " '$1,694.42',\n",
       " '$1,214.10',\n",
       " '$2,930.31',\n",
       " '$1,944.15',\n",
       " '$2,839.22',\n",
       " '$2,467.31',\n",
       " '$3,304.99',\n",
       " '$3,844.42',\n",
       " '$3,594.99',\n",
       " '$2,940.24',\n",
       " '$3,062.41',\n",
       " '$3,067.82',\n",
       " '$2,646.76',\n",
       " '$2,227.79']"
      ]
     },
     "execution_count": 14,
     "metadata": {},
     "output_type": "execute_result"
    }
   ],
   "source": [
    "# Grand total of balances for all users\n",
    "[profile[\"balance\"] for profile in profiles]"
   ]
  },
  {
   "cell_type": "code",
   "execution_count": 16,
   "metadata": {},
   "outputs": [],
   "source": [
    "profile = profiles[0]"
   ]
  },
  {
   "cell_type": "code",
   "execution_count": 27,
   "metadata": {},
   "outputs": [
    {
     "data": {
      "text/plain": [
       "3654.02"
      ]
     },
     "execution_count": 27,
     "metadata": {},
     "output_type": "execute_result"
    }
   ],
   "source": [
    "def get_profile_balance(profile): \n",
    "    return float(profile[\"balance\"].replace(\"$\", \"\").replace(\",\", \"\"))\n",
    "\n",
    "get_profile_balance(profiles[1])"
   ]
  },
  {
   "cell_type": "code",
   "execution_count": 29,
   "metadata": {},
   "outputs": [
    {
     "data": {
      "text/plain": [
       "52667.02"
      ]
     },
     "execution_count": 29,
     "metadata": {},
     "output_type": "execute_result"
    }
   ],
   "source": [
    "# Grand total of balances for all users\n",
    "sum([get_profile_balance(profile) for profile in profiles])"
   ]
  },
  {
   "cell_type": "code",
   "execution_count": 40,
   "metadata": {},
   "outputs": [
    {
     "name": "stdout",
     "output_type": "stream",
     "text": [
      "The average balance is 2771.948421\n",
      "The average balance is 2771.95\n",
      "The average balance is 2771.9484210526316\n"
     ]
    }
   ],
   "source": [
    "# Average balance per user\n",
    "balances = [get_profile_balance(profile) for profile in profiles]\n",
    "avg_balance = sum(balances) / len(balances)\n",
    "print(\"The average balance is %f\" % avg_balance)\n",
    "print(\"The average balance is %.2f\" % avg_balance)\n",
    "print(f\"The average balance is {avg_balance}\")"
   ]
  },
  {
   "cell_type": "markdown",
   "metadata": {},
   "source": [
    "Traditional way of solving"
   ]
  },
  {
   "cell_type": "code",
   "execution_count": 43,
   "metadata": {},
   "outputs": [
    {
     "data": {
      "text/plain": [
       "{'_id': '54e23c3e0fd8074c2ca52667',\n",
       " 'index': 6,\n",
       " 'guid': 'af8d9a03-fde9-4039-b20c-c4708d4cfc3c',\n",
       " 'isActive': False,\n",
       " 'balance': '$1,214.10',\n",
       " 'picture': 'http://placehold.it/32x32',\n",
       " 'age': 35,\n",
       " 'eyeColor': 'green',\n",
       " 'name': 'Avery Flynn',\n",
       " 'gender': 'male',\n",
       " 'company': 'TERSANKI',\n",
       " 'email': 'averyflynn@tersanki.com',\n",
       " 'phone': '+1 (966) 404-2471',\n",
       " 'address': '569 Oakland Place, Beyerville, Puerto Rico, 2395',\n",
       " 'about': 'Minim consequat anim ad et tempor et pariatur cillum ut. Ea Lorem consectetur sunt aliquip ea minim minim id dolore incididunt qui magna. Magna velit labore dolore voluptate ut aliquip esse qui est ipsum cupidatat duis enim. Sunt esse eiusmod cupidatat duis quis sunt anim dolore adipisicing enim dolore aliqua mollit. Commodo sit ad eiusmod reprehenderit.\\r\\n',\n",
       " 'registered': '2014-04-13T10:25:03 +05:00',\n",
       " 'latitude': -89.879409,\n",
       " 'longitude': 143.441709,\n",
       " 'tags': ['quis', 'esse', 'Lorem', 'minim', 'nostrud', 'voluptate', 'laborum'],\n",
       " 'friends': [{'id': 0, 'name': 'Ball Henson'},\n",
       "  {'id': 1, 'name': 'Dalton Mccoy'},\n",
       "  {'id': 2, 'name': 'Carolina Sharp'}],\n",
       " 'greeting': 'Hello, Avery Flynn! You have 13 unread messages.',\n",
       " 'favoriteFruit': 'banana'}"
      ]
     },
     "execution_count": 43,
     "metadata": {},
     "output_type": "execute_result"
    }
   ],
   "source": [
    "# User with the lowest balance\n",
    "user_with_lowest_balance = profiles[0]\n",
    "for user in profiles[1:]:\n",
    "    if get_profile_balance(user) < get_profile_balance(user_with_lowest_balance):\n",
    "        user_with_lowest_balance = user\n",
    "user_with_lowest_balance"
   ]
  },
  {
   "cell_type": "markdown",
   "metadata": {},
   "source": [
    "Pythonic way of solving"
   ]
  },
  {
   "cell_type": "code",
   "execution_count": 50,
   "metadata": {},
   "outputs": [
    {
     "data": {
      "text/plain": [
       "{'_id': '54e23c3e0fd8074c2ca52667',\n",
       " 'index': 6,\n",
       " 'guid': 'af8d9a03-fde9-4039-b20c-c4708d4cfc3c',\n",
       " 'isActive': False,\n",
       " 'balance': '$1,214.10',\n",
       " 'picture': 'http://placehold.it/32x32',\n",
       " 'age': 35,\n",
       " 'eyeColor': 'green',\n",
       " 'name': 'Avery Flynn',\n",
       " 'gender': 'male',\n",
       " 'company': 'TERSANKI',\n",
       " 'email': 'averyflynn@tersanki.com',\n",
       " 'phone': '+1 (966) 404-2471',\n",
       " 'address': '569 Oakland Place, Beyerville, Puerto Rico, 2395',\n",
       " 'about': 'Minim consequat anim ad et tempor et pariatur cillum ut. Ea Lorem consectetur sunt aliquip ea minim minim id dolore incididunt qui magna. Magna velit labore dolore voluptate ut aliquip esse qui est ipsum cupidatat duis enim. Sunt esse eiusmod cupidatat duis quis sunt anim dolore adipisicing enim dolore aliqua mollit. Commodo sit ad eiusmod reprehenderit.\\r\\n',\n",
       " 'registered': '2014-04-13T10:25:03 +05:00',\n",
       " 'latitude': -89.879409,\n",
       " 'longitude': 143.441709,\n",
       " 'tags': ['quis', 'esse', 'Lorem', 'minim', 'nostrud', 'voluptate', 'laborum'],\n",
       " 'friends': [{'id': 0, 'name': 'Ball Henson'},\n",
       "  {'id': 1, 'name': 'Dalton Mccoy'},\n",
       "  {'id': 2, 'name': 'Carolina Sharp'}],\n",
       " 'greeting': 'Hello, Avery Flynn! You have 13 unread messages.',\n",
       " 'favoriteFruit': 'banana'}"
      ]
     },
     "execution_count": 50,
     "metadata": {},
     "output_type": "execute_result"
    }
   ],
   "source": [
    "# User with the lowest balance\n",
    "# in order to sort dictionaries, we need to tell python how to compare them\n",
    "# the key keyword argument specifies a function that takes in one element of the list\n",
    "# and returns a value tht can be sorted\n",
    "min(profiles, key=get_profile_balance)"
   ]
  },
  {
   "cell_type": "code",
   "execution_count": 49,
   "metadata": {},
   "outputs": [
    {
     "data": {
      "text/plain": [
       "'Avery Flynn'"
      ]
     },
     "execution_count": 49,
     "metadata": {},
     "output_type": "execute_result"
    }
   ],
   "source": [
    "min(profiles, key=get_profile_balance)[\"name\"]"
   ]
  },
  {
   "cell_type": "code",
   "execution_count": 51,
   "metadata": {},
   "outputs": [
    {
     "data": {
      "text/plain": [
       "'Fay Hammond'"
      ]
     },
     "execution_count": 51,
     "metadata": {},
     "output_type": "execute_result"
    }
   ],
   "source": [
    "# User with the highest balance\n",
    "max(profiles, key=get_profile_balance)[\"name\"]"
   ]
  },
  {
   "cell_type": "code",
   "execution_count": 53,
   "metadata": {},
   "outputs": [
    {
     "data": {
      "text/plain": [
       "['4',\n",
       " '19',\n",
       " '5',\n",
       " '10',\n",
       " '9',\n",
       " '19',\n",
       " '13',\n",
       " '17',\n",
       " '2',\n",
       " '18',\n",
       " '2',\n",
       " '13',\n",
       " '7',\n",
       " '13',\n",
       " '12',\n",
       " '7',\n",
       " '19',\n",
       " '5',\n",
       " '16']"
      ]
     },
     "execution_count": 53,
     "metadata": {},
     "output_type": "execute_result"
    }
   ],
   "source": [
    "# Total number of unread messages for all users\n",
    "# quick and dirty\n",
    "[profile[\"greeting\"][-19:-17].strip() for profile in profiles]"
   ]
  },
  {
   "cell_type": "code",
   "execution_count": null,
   "metadata": {},
   "outputs": [],
   "source": [
    "# Total number of unread messages for all users\n",
    "profile = profiles[0]"
   ]
  },
  {
   "cell_type": "code",
   "execution_count": 73,
   "metadata": {},
   "outputs": [
    {
     "data": {
      "text/plain": [
       "210"
      ]
     },
     "execution_count": 73,
     "metadata": {},
     "output_type": "execute_result"
    }
   ],
   "source": [
    "def get_n_unread_messages(profile):\n",
    "    greeting = profile[\"greeting\"]\n",
    "    start_index = greeting.index(\"have \") + 5\n",
    "    end_index = greeting.index(\" unread\")\n",
    "    return int(greeting[start_index:end_index])\n",
    "\n",
    "sum([get_n_unread_messages(profile) for profile in profiles])"
   ]
  },
  {
   "cell_type": "code",
   "execution_count": 77,
   "metadata": {},
   "outputs": [
    {
     "data": {
      "text/plain": [
       "4"
      ]
     },
     "execution_count": 77,
     "metadata": {},
     "output_type": "execute_result"
    }
   ],
   "source": [
    "profile = profiles[0]\n",
    "greeting = profile[\"greeting\"]\n",
    "\n",
    "int(\"\".join([c for c in greeting if c.isdigit()]))"
   ]
  },
  {
   "cell_type": "code",
   "execution_count": null,
   "metadata": {},
   "outputs": [],
   "source": []
  }
 ],
 "metadata": {
  "kernelspec": {
   "display_name": "Python 3",
   "language": "python",
   "name": "python3"
  },
  "language_info": {
   "codemirror_mode": {
    "name": "ipython",
    "version": 3
   },
   "file_extension": ".py",
   "mimetype": "text/x-python",
   "name": "python",
   "nbconvert_exporter": "python",
   "pygments_lexer": "ipython3",
   "version": "3.7.4"
  }
 },
 "nbformat": 4,
 "nbformat_minor": 2
}
