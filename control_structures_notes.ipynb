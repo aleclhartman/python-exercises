{
 "cells": [
  {
   "cell_type": "markdown",
   "metadata": {},
   "source": [
    "# Control Structures"
   ]
  },
  {
   "cell_type": "markdown",
   "metadata": {},
   "source": [
    "**Sequence** == code from top to bottom; order of operations; PEMDAS"
   ]
  },
  {
   "cell_type": "code",
   "execution_count": 2,
   "metadata": {},
   "outputs": [
    {
     "name": "stdout",
     "output_type": "stream",
     "text": [
      "Hello, World\n",
      "Goodbye, World\n"
     ]
    }
   ],
   "source": [
    "print('Hello, World')\n",
    "print('Goodbye, World')"
   ]
  },
  {
   "cell_type": "markdown",
   "metadata": {},
   "source": [
    "**Select** == conditional"
   ]
  },
  {
   "cell_type": "code",
   "execution_count": 8,
   "metadata": {},
   "outputs": [
    {
     "name": "stdout",
     "output_type": "stream",
     "text": [
      "What is your name? Alec\n",
      "My name is Python.\n"
     ]
    }
   ],
   "source": [
    "name = input(\"What is your name? \")\n",
    "\n",
    "# if condition\n",
    "if name == \"Bob\":\n",
    "    print(\"Howdy, Bob. Great to see you.\")\n",
    "\n",
    "print(\"My name is Python.\")"
   ]
  },
  {
   "cell_type": "code",
   "execution_count": 34,
   "metadata": {},
   "outputs": [
    {
     "name": "stdout",
     "output_type": "stream",
     "text": [
      "Bring an umbrella\n"
     ]
    }
   ],
   "source": [
    "might_rain_today = True\n",
    "if might_rain_today:\n",
    "    print(\"Bring an umbrella\")"
   ]
  },
  {
   "cell_type": "code",
   "execution_count": 6,
   "metadata": {},
   "outputs": [
    {
     "name": "stdout",
     "output_type": "stream",
     "text": [
      "Bring an umbrella\n",
      "Pay attention to TXDOT alerts\n"
     ]
    }
   ],
   "source": [
    "might_flood = True\n",
    "if might_rain_today:\n",
    "    print('Bring an umbrella')\n",
    "    if might_flood:\n",
    "        print(\"Pay attention to TXDOT alerts\")"
   ]
  },
  {
   "cell_type": "code",
   "execution_count": 7,
   "metadata": {},
   "outputs": [
    {
     "name": "stdout",
     "output_type": "stream",
     "text": [
      "This number is divisible by both 3 and 5\n",
      "This number is divisible by both 3 and 5\n"
     ]
    }
   ],
   "source": [
    "# Avoid when possible (unless granularity helps)\n",
    "number = 15\n",
    "if number % 5 == 0:\n",
    "    if number % 3 == 0:\n",
    "        print(\"This number is divisible by both 3 and 5\")\n",
    "        \n",
    "# and or or make compound logical statements\n",
    "if number % 5 == 0 and number % 3 == 0:\n",
    "    print(\"This number is divisible by both 3 and 5\")"
   ]
  },
  {
   "cell_type": "code",
   "execution_count": 14,
   "metadata": {},
   "outputs": [
    {
     "name": "stdout",
     "output_type": "stream",
     "text": [
      "I don't know what to do\n",
      "Keep going\n"
     ]
    }
   ],
   "source": [
    "# if / else\n",
    "direction = \"left\"\n",
    "\n",
    "if direction == \"right\":\n",
    "    print(\"Take a right turn\")\n",
    "else:\n",
    "    print(\"I don't know what to do\")\n",
    "    \n",
    "\n",
    "print(\"Keep going\")"
   ]
  },
  {
   "cell_type": "code",
   "execution_count": 16,
   "metadata": {},
   "outputs": [
    {
     "name": "stdout",
     "output_type": "stream",
     "text": [
      "You may edit this blog post\n"
     ]
    }
   ],
   "source": [
    "# scenario: editing blog post\n",
    "is_admin = True\n",
    "is_author = True\n",
    "\n",
    "if is_admin or is_author:\n",
    "    print(\"You may edit this blog post\")\n",
    "else:\n",
    "    print(\"Access denied\")"
   ]
  },
  {
   "cell_type": "code",
   "execution_count": 17,
   "metadata": {},
   "outputs": [
    {
     "name": "stdout",
     "output_type": "stream",
     "text": [
      "banana has more than three letters\n"
     ]
    }
   ],
   "source": [
    "if len(\"banana\") > 3:\n",
    "    print(\"banana has more than three letters\")\n",
    "else:\n",
    "    print(\"Banana has langth of\", str(len(banana)))"
   ]
  },
  {
   "cell_type": "code",
   "execution_count": 29,
   "metadata": {},
   "outputs": [
    {
     "name": "stdout",
     "output_type": "stream",
     "text": [
      "Stop\n"
     ]
    }
   ],
   "source": [
    "# if / else if / else\n",
    "# if / else if / else if / else if / else\n",
    "\n",
    "light_color = \"Yellow\"\n",
    "\n",
    "if light_color == \"Green\":\n",
    "    print(\"Go\")\n",
    "else:\n",
    "    print(\"Stop\")"
   ]
  },
  {
   "cell_type": "code",
   "execution_count": 32,
   "metadata": {},
   "outputs": [
    {
     "name": "stdout",
     "output_type": "stream",
     "text": [
      "Proceed with caution\n",
      "Whew!\n"
     ]
    }
   ],
   "source": [
    "you_can_stop_safely = False\n",
    "\n",
    "if light_color == \"Green\":\n",
    "    print(\"Go\")\n",
    "elif light_color == \"Red\":\n",
    "    print(\"Stop\")\n",
    "elif light_color == \"Yellow\":\n",
    "    if you_can_stop_safely:\n",
    "        print(\"Stop before crosswalk\")\n",
    "    else:\n",
    "        print(\"Proceed with caution\")\n",
    "    print(\"Whew!\")\n",
    "else: print(\"Look for officer's direction\")\n"
   ]
  },
  {
   "cell_type": "markdown",
   "metadata": {},
   "source": [
    "**Coding v. Programming**"
   ]
  },
  {
   "cell_type": "markdown",
   "metadata": {},
   "source": [
    "*Programming* is a mental activity where we programmatically understand the problem and build programmatic soultions (happens between ears, on paper, conversation on white boards)\n",
    "- What are the ways we can represent a problem?\n",
    "- What is the smallest operation (in English) that can happen? (identify atomic operations)\n",
    "- Identify the sequence of events\n",
    "- Identify any conditional execution\n",
    "- Identify any repetition (i.e., iteration)"
   ]
  },
  {
   "cell_type": "markdown",
   "metadata": {},
   "source": [
    "*Coding* is converting or translating your programmatic solution (in pseudo-code or natural language) into a specific programming language"
   ]
  },
  {
   "cell_type": "markdown",
   "metadata": {},
   "source": [
    "**Everyone is a programmer**"
   ]
  },
  {
   "cell_type": "markdown",
   "metadata": {},
   "source": [
    "**Iteration** == loops"
   ]
  },
  {
   "cell_type": "code",
   "execution_count": null,
   "metadata": {},
   "outputs": [],
   "source": [
    "# Python's two basic loops\n",
    "# While loop - runs as long as condition is true\n",
    "# For loop"
   ]
  },
  {
   "cell_type": "code",
   "execution_count": null,
   "metadata": {},
   "outputs": [],
   "source": [
    "# while some_condition:\n",
    "    # indented code runs until that conidtion is false"
   ]
  },
  {
   "cell_type": "code",
   "execution_count": 36,
   "metadata": {},
   "outputs": [],
   "source": [
    "# import time\n",
    "\n",
    "# while True:\n",
    "#    print(\"I'm hungry\")\n",
    "#    time.sleep(5)"
   ]
  },
  {
   "cell_type": "code",
   "execution_count": 39,
   "metadata": {},
   "outputs": [
    {
     "name": "stdout",
     "output_type": "stream",
     "text": [
      "0\n",
      "1\n",
      "2\n",
      "3\n",
      "4\n",
      "5\n",
      "6\n",
      "7\n",
      "8\n",
      "9\n",
      "10\n"
     ]
    }
   ],
   "source": [
    "number = 0\n",
    "\n",
    "while number <= 10:\n",
    "    print(number)\n",
    "    number += 1\n",
    "    # new value for the variable is what it was plus one"
   ]
  },
  {
   "cell_type": "code",
   "execution_count": 42,
   "metadata": {},
   "outputs": [
    {
     "name": "stdout",
     "output_type": "stream",
     "text": [
      "No\n"
     ]
    }
   ],
   "source": [
    "while len(\"kiwi\") > 5:\n",
    "    print(\"Will this ever run\")\n",
    "print(\"No\")"
   ]
  },
  {
   "cell_type": "code",
   "execution_count": 41,
   "metadata": {},
   "outputs": [
    {
     "name": "stdout",
     "output_type": "stream",
     "text": [
      "\n",
      "!\n",
      "!!\n",
      "!!!\n",
      "!!!!\n",
      "!!!!!\n",
      "!!!!!!\n",
      "!!!!!!!\n",
      "!!!!!!!!\n",
      "!!!!!!!!!\n"
     ]
    }
   ],
   "source": [
    "string = \"\"\n",
    "while len(string) < 10:\n",
    "    print(string)\n",
    "    string += \"!\""
   ]
  },
  {
   "cell_type": "code",
   "execution_count": 43,
   "metadata": {},
   "outputs": [
    {
     "name": "stdout",
     "output_type": "stream",
     "text": [
      "26\n"
     ]
    }
   ],
   "source": [
    "number = 0\n",
    "while number <= 25:\n",
    "    number += 1\n",
    "print(number)"
   ]
  },
  {
   "cell_type": "code",
   "execution_count": 45,
   "metadata": {},
   "outputs": [
    {
     "name": "stdout",
     "output_type": "stream",
     "text": [
      "app\n",
      "salad\n",
      "entree\n",
      "dessert\n",
      "coffee\n",
      "full\n"
     ]
    }
   ],
   "source": [
    "dishes = ['app', 'salad', 'entree', 'dessert', 'coffee']\n",
    "i = 0\n",
    "while i < len(dishes):\n",
    "    print(dishes[i])\n",
    "    i += 1\n",
    "\n",
    "print(\"full\")"
   ]
  },
  {
   "cell_type": "code",
   "execution_count": 46,
   "metadata": {},
   "outputs": [
    {
     "name": "stdout",
     "output_type": "stream",
     "text": [
      "app\n",
      "salad\n",
      "entree\n",
      "dessert\n",
      "coffee\n"
     ]
    }
   ],
   "source": [
    "for dish in dishes:\n",
    "    print(dish)"
   ]
  },
  {
   "cell_type": "code",
   "execution_count": 47,
   "metadata": {},
   "outputs": [
    {
     "data": {
      "text/plain": [
       "['App', 'Salad', 'Entree', 'Dessert', 'Coffee']"
      ]
     },
     "execution_count": 47,
     "metadata": {},
     "output_type": "execute_result"
    }
   ],
   "source": [
    "output = []\n",
    "for dish in dishes:\n",
    "    output.append(dish.capitalize())\n",
    "output"
   ]
  },
  {
   "cell_type": "code",
   "execution_count": 66,
   "metadata": {
    "scrolled": true
   },
   "outputs": [
    {
     "name": "stdout",
     "output_type": "stream",
     "text": [
      "app\n",
      "salad\n",
      "entree\n",
      "dessert\n",
      "coffee\n"
     ]
    }
   ],
   "source": [
    "for i, dish in enumerate(dishes):\n",
    "    print(i, dish)"
   ]
  },
  {
   "cell_type": "markdown",
   "metadata": {},
   "source": [
    "**break exits a loop completely**"
   ]
  },
  {
   "cell_type": "markdown",
   "metadata": {},
   "source": [
    "**continue skips to the next loop iteration**"
   ]
  },
  {
   "cell_type": "code",
   "execution_count": 56,
   "metadata": {},
   "outputs": [
    {
     "name": "stdout",
     "output_type": "stream",
     "text": [
      "1\n",
      "3\n",
      "5\n",
      "7\n"
     ]
    }
   ],
   "source": [
    "numbers = [1, 2, 3, 4, 5, 6, 7]\n",
    "\n",
    "for number in numbers:\n",
    "    if number % 2 == 0:\n",
    "        continue\n",
    "    print(number)"
   ]
  }
 ],
 "metadata": {
  "kernelspec": {
   "display_name": "Python 3",
   "language": "python",
   "name": "python3"
  },
  "language_info": {
   "codemirror_mode": {
    "name": "ipython",
    "version": 3
   },
   "file_extension": ".py",
   "mimetype": "text/x-python",
   "name": "python",
   "nbconvert_exporter": "python",
   "pygments_lexer": "ipython3",
   "version": "3.7.4"
  }
 },
 "nbformat": 4,
 "nbformat_minor": 2
}
